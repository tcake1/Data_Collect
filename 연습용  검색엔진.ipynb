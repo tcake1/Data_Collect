{
 "cells": [
  {
   "cell_type": "code",
   "execution_count": 1,
   "metadata": {},
   "outputs": [
    {
     "name": "stderr",
     "output_type": "stream",
     "text": [
      "/Users/heeseok/anaconda3/lib/python3.7/site-packages/jpype/_core.py:210: UserWarning: \n",
      "-------------------------------------------------------------------------------\n",
      "Deprecated: convertStrings was not specified when starting the JVM. The default\n",
      "behavior in JPype will be False starting in JPype 0.8. The recommended setting\n",
      "for new code is convertStrings=False.  The legacy value of True was assumed for\n",
      "this session. If you are a user of an application that reported this warning,\n",
      "please file a ticket with the developer.\n",
      "-------------------------------------------------------------------------------\n",
      "\n",
      "  \"\"\")\n"
     ]
    }
   ],
   "source": [
    "import nltk\n",
    "from nltk.tokenize import word_tokenize\n",
    "from string import punctuation\n",
    "import re\n",
    "from konlpy.tag import Kkma\n",
    "import pandas as pd\n",
    "import numpy as np\n",
    "from collections import defaultdict\n",
    "\n",
    "kkma = Kkma()"
   ]
  },
  {
   "cell_type": "code",
   "execution_count": 2,
   "metadata": {},
   "outputs": [],
   "source": [
    "import pandas as pd\n",
    "data = pd.read_csv('mashed_up.csv')"
   ]
  },
  {
   "cell_type": "code",
   "execution_count": 3,
   "metadata": {},
   "outputs": [
    {
     "name": "stdout",
     "output_type": "stream",
     "text": [
      "['박원', '병신']\n",
      "\n",
      "56891 번문서 [\r\n",
      "주차된 차 견인된 후 차량 손상 문제와 단속요원 미동행 견인\n",
      "\r\n",
      "] :   조회수: 196\n",
      "\n",
      "\n",
      "\r\n",
      "   기사랑 통화하라는 안일한 답변 하지 마시기 바랍니다.\n",
      "\r\n",
      "\n",
      "\n",
      "\n",
      "\r\n",
      "안녕하십니까? 우리구 교통행정에 관심을 갖고 의견주신데 대하여 감사드리며, 문의하여 주신 사항과 관련하여 답변드리겠습니다. 우리구는 도로교통법 규정에 의거 도로에서 일어나는 교통상의 모든 위험과 장애를 방지하고 제거하여 안전하고 원활한 교통을 확보함을 목적으로 지속적인 불법 주정차 단속을 실시하고 있습니다만 선생님의 차량이 단속되신 점 안타깝게 생각합니다. 선생님께서 문의주신 사항에 대해 말씀드리면,첫째, 우선 불법주정차 단속은 우리구 주차문화과 주차단속원이 불법주정차단속을 실시하고 있으며, 견인스티커가 부착된 단속된 차량에 한해 견인은 도로교통법 제36조의 규정에 의하여 공무를 위탁받은 견인대행업체에서 견인업무를 수행하고 있습니다.선생님께서 말씀하신 견인기사가 부착한 것은 차량을 견인하기전 차량 아래나 주변 구조물에 견인을 알리는 ‘견인이동통지서’로 사료됩니다. 둘째, 선생님께서 주차하신 곳은 현장 확인 결과 안전지대이며, 도로교통법 제32조(정차 및 주차의 금지) 제3호에 의거 안전지대는 주정차가 금지된 지역으로써 안전지대의 사방으로부터 10m 이내 주정차하는 경우 단속 및 견인대상입니다. 아울러 11월 10일 신고접수대장을 확인 결과 당일 오후 14:20경 영등포본동 진미정(식당) 및 영등포푸르지오아파트 후문 주변 민원불편신고가 접수되어 단속을 실시한 것으로 확인되었습니다.   마지막으로 견인대행업은 도로교통법 제36조의 규정에 의하여 공무를 위탁받아 견인업무를 수행하는 것으로 견인업체는 업무수행시 손해가 발생하는 경우에는 이를 배상하여야할 책임이 있습니다. 또한 견인업체에 손해배상을 요구하여 합의에 이르지 못하면 증거를 갖추어 관할법원에 소를 제기하여 구제 받을 수 있음을 알려드립니다.좋은 의견주신 점 다시 한번 감사드리며, 더 궁금하신 사항은 주차문화과(☎02-2670-3997)로 연락 주시면 성심성의껏 답변 드리겠습니다. 차가운 날씨에 건강유의하시고, 선생님의 가정에 건강과 행복이 가득하시기를 기원합니다.  끝.\n",
      "\r\n",
      "\n",
      "\n",
      "\n",
      "56890 번문서 [\r\n",
      "주차된 차 견인된 후 차량 손상 문제와 단속요원 미동행 견인\n",
      "\r\n",
      "] :   조회수: 191\n",
      "\n",
      "\n",
      "\r\n",
      "   기사랑 통화하라는 안일한 답변 하지 마시기 바랍니다.\n",
      "\r\n",
      "\n",
      "\n",
      "\n",
      "\r\n",
      "안녕하십니까? 우리구 교통행정에 관심을 갖고 의견주신데 대하여 감사드리며, 문의하여 주신 사항과 관련하여 답변드리겠습니다. 우리구는 도로교통법 규정에 의거 도로에서 일어나는 교통상의 모든 위험과 장애를 방지하고 제거하여 안전하고 원활한 교통을 확보함을 목적으로 지속적인 불법 주정차 단속을 실시하고 있습니다만 선생님의 차량이 단속되신 점 안타깝게 생각합니다. 선생님께서 문의주신 사항에 대해 말씀드리면,첫째, 우선 불법주정차 단속은 우리구 주차문화과 주차단속원이 불법주정차단속을 실시하고 있으며, 견인스티커가 부착된 단속된 차량에 한해 견인은 도로교통법 제36조의 규정에 의하여 공무를 위탁받은 견인대행업체에서 견인업무를 수행하고 있습니다.선생님께서 말씀하신 견인기사가 부착한 것은 차량을 견인하기전 차량 아래나 주변 구조물에 견인을 알리는 ‘견인이동통지서’로 사료됩니다. 둘째, 선생님께서 주차하신 곳은 현장 확인 결과 안전지대이며, 도로교통법 제32조(정차 및 주차의 금지) 제3호에 의거 안전지대는 주정차가 금지된 지역으로써 안전지대의 사방으로부터 10m 이내 주정차하는 경우 단속 및 견인대상입니다. 아울러 11월 10일 신고접수대장을 확인 결과 당일 오후 14:20경 영등포본동 진미정(식당) 및 영등포푸르지오아파트 후문 주변 민원불편신고가 접수되어 단속을 실시한 것으로 확인되었습니다.   마지막으로 견인대행업은 도로교통법 제36조의 규정에 의하여 공무를 위탁받아 견인업무를 수행하는 것으로 견인업체는 업무수행시 손해가 발생하는 경우에는 이를 배상하여야할 책임이 있습니다. 또한 견인업체에 손해배상을 요구하여 합의에 이르지 못하면 증거를 갖추어 관할법원에 소를 제기하여 구제 받을 수 있음을 알려드립니다.좋은 의견주신 점 다시 한번 감사드리며, 더 궁금하신 사항은 주차문화과(☎02-2670-3997)로 연락 주시면 성심성의껏 답변 드리겠습니다. 차가운 날씨에 건강유의하시고, 선생님의 가정에 건강과 행복이 가득하시기를 기원합니다.  끝.\n",
      "\r\n",
      "\n",
      "\n",
      "\n",
      "56889 번문서 [\r\n",
      "주차된 차 견인된 후 차량 손상 문제와 단속요원 미동행 견인\n",
      "\r\n",
      "] :   조회수: 208\n",
      "\n",
      "\n",
      "\r\n",
      "   기사랑 통화하라는 안일한 답변 하지 마시기 바랍니다.\n",
      "\r\n",
      "\n",
      "\n",
      "\n",
      "\r\n",
      "안녕하십니까? 우리구 교통행정에 관심을 갖고 의견주신데 대하여 감사드리며, 문의하여 주신 사항과 관련하여 답변드리겠습니다. 우리구는 도로교통법 규정에 의거 도로에서 일어나는 교통상의 모든 위험과 장애를 방지하고 제거하여 안전하고 원활한 교통을 확보함을 목적으로 지속적인 불법 주정차 단속을 실시하고 있습니다만 선생님의 차량이 단속되신 점 안타깝게 생각합니다. 선생님께서 문의주신 사항에 대해 말씀드리면,첫째, 우선 불법주정차 단속은 우리구 주차문화과 주차단속원이 불법주정차단속을 실시하고 있으며, 견인스티커가 부착된 단속된 차량에 한해 견인은 도로교통법 제36조의 규정에 의하여 공무를 위탁받은 견인대행업체에서 견인업무를 수행하고 있습니다.선생님께서 말씀하신 견인기사가 부착한 것은 차량을 견인하기전 차량 아래나 주변 구조물에 견인을 알리는 ‘견인이동통지서’로 사료됩니다. 둘째, 선생님께서 주차하신 곳은 현장 확인 결과 안전지대이며, 도로교통법 제32조(정차 및 주차의 금지) 제3호에 의거 안전지대는 주정차가 금지된 지역으로써 안전지대의 사방으로부터 10m 이내 주정차하는 경우 단속 및 견인대상입니다. 아울러 11월 10일 신고접수대장을 확인 결과 당일 오후 14:20경 영등포본동 진미정(식당) 및 영등포푸르지오아파트 후문 주변 민원불편신고가 접수되어 단속을 실시한 것으로 확인되었습니다.   마지막으로 견인대행업은 도로교통법 제36조의 규정에 의하여 공무를 위탁받아 견인업무를 수행하는 것으로 견인업체는 업무수행시 손해가 발생하는 경우에는 이를 배상하여야할 책임이 있습니다. 또한 견인업체에 손해배상을 요구하여 합의에 이르지 못하면 증거를 갖추어 관할법원에 소를 제기하여 구제 받을 수 있음을 알려드립니다.좋은 의견주신 점 다시 한번 감사드리며, 더 궁금하신 사항은 주차문화과(☎02-2670-3997)로 연락 주시면 성심성의껏 답변 드리겠습니다. 차가운 날씨에 건강유의하시고, 선생님의 가정에 건강과 행복이 가득하시기를 기원합니다.  끝.\n",
      "\r\n",
      "\n",
      "\n",
      "\n"
     ]
    }
   ],
   "source": [
    "termLex = pd.read_csv('dictionary.csv')\n",
    "\n",
    "Dictionary = defaultdict(lambda:-1)\n",
    "for idx,pos in enumerate(termLex.dictionary):\n",
    "    Dictionary[idx]=pos\n",
    "    \n",
    "V = termLex.vocabulary.to_list()\n",
    "D = np.load('saved_doc_length.npy').tolist()\n",
    "\n",
    "Q = '박원순 디져라 병신'\n",
    "\n",
    "\n",
    "_Q = [_[0] for _ in kkma.pos(Q) if _[1].startswith(\"N\") and _[0] in V]\n",
    "print(_Q)\n",
    "print()\n",
    "searchResult = defaultdict(int)\n",
    "\n",
    "with open('postings.txt') as Postings_:\n",
    "    for t in _Q:\n",
    "\n",
    "        j = V.index(t)\n",
    "        nextPosition = Dictionary[j]\n",
    "        while True:\n",
    "            Postings_.seek(nextPosition)\n",
    "            _struct = [int(_.strip()) for _ in Postings_.readline().split(\",\")]\n",
    "            \n",
    "            searchResult[_struct[0]] +=1\n",
    "            nextPosition = _struct[2]\n",
    "\n",
    "            if nextPosition == -1:\n",
    "                \n",
    "                break\n",
    "    totalResult = sorted(searchResult.items(), key=lambda x:x[1], reverse=True)\n",
    "\n",
    "    \n",
    "for _ in [data.iloc[_[0]] for _ in totalResult[:3]]:\n",
    "    print(_.name,'번문서','[' + _['title'] + ']',':','  조회수:',_['view'])\n",
    "    print('\\n')\n",
    "    print(_['question'])\n",
    "    print('\\n')\n",
    "    print(_['ans'])\n",
    "    print('\\n')"
   ]
  },
  {
   "cell_type": "code",
   "execution_count": null,
   "metadata": {},
   "outputs": [],
   "source": []
  }
 ],
 "metadata": {
  "kernelspec": {
   "display_name": "Python 3",
   "language": "python",
   "name": "python3"
  },
  "language_info": {
   "codemirror_mode": {
    "name": "ipython",
    "version": 3
   },
   "file_extension": ".py",
   "mimetype": "text/x-python",
   "name": "python",
   "nbconvert_exporter": "python",
   "pygments_lexer": "ipython3",
   "version": "3.7.3"
  }
 },
 "nbformat": 4,
 "nbformat_minor": 2
}
