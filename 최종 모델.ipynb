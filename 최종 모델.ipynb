{
 "cells": [
  {
   "cell_type": "code",
   "execution_count": 2,
   "metadata": {},
   "outputs": [],
   "source": [
    "%matplotlib inline"
   ]
  },
  {
   "cell_type": "code",
   "execution_count": 1,
   "metadata": {},
   "outputs": [
    {
     "name": "stderr",
     "output_type": "stream",
     "text": [
      "/Users/heeseok/anaconda3/lib/python3.7/site-packages/sklearn/externals/joblib/__init__.py:15: DeprecationWarning: sklearn.externals.joblib is deprecated in 0.21 and will be removed in 0.23. Please import this functionality directly from joblib, which can be installed with: pip install joblib. If this warning is raised when loading pickled models, you may need to re-serialize those models with scikit-learn 0.21+.\n",
      "  warnings.warn(msg, category=DeprecationWarning)\n"
     ]
    }
   ],
   "source": [
    "import pandas as pd\n",
    "import numpy as np\n",
    "import json\n",
    "from datetime import datetime\n",
    "import matplotlib.pyplot as plt\n",
    "\n",
    "from sklearn.decomposition import LatentDirichletAllocation\n",
    "from sklearn.feature_extraction.text import CountVectorizer\n",
    "from sklearn.externals import joblib"
   ]
  },
  {
   "cell_type": "markdown",
   "metadata": {},
   "source": [
    "검색어의 토픽을 정하기위해 기존에 fit된 LDA와 CounterVectorizer를 불러온다"
   ]
  },
  {
   "cell_type": "code",
   "execution_count": 3,
   "metadata": {
    "scrolled": true
   },
   "outputs": [
    {
     "data": {
      "text/plain": [
       "LatentDirichletAllocation(batch_size=128, doc_topic_prior=1, evaluate_every=-1,\n",
       "                          learning_decay=0.7, learning_method='online',\n",
       "                          learning_offset=10.0, max_doc_update_iter=100,\n",
       "                          max_iter=15, mean_change_tol=0.001, n_components=21,\n",
       "                          n_jobs=None, perp_tol=0.1, random_state=None,\n",
       "                          topic_word_prior=0.1, total_samples=1000000.0,\n",
       "                          verbose=0)"
      ]
     },
     "execution_count": 3,
     "metadata": {},
     "output_type": "execute_result"
    }
   ],
   "source": [
    "lda"
   ]
  },
  {
   "cell_type": "code",
   "execution_count": 9,
   "metadata": {
    "scrolled": true
   },
   "outputs": [
    {
     "data": {
      "text/plain": [
       "CountVectorizer(analyzer='word', binary=False, decode_error='strict',\n",
       "                dtype=<class 'numpy.int64'>, encoding='utf-8', input='content',\n",
       "                lowercase=True, max_df=1.0, max_features=None, min_df=1,\n",
       "                ngram_range=(1, 1), preprocessor=None,\n",
       "                stop_words=['말씀', '안녕', '서울', '서울시', '관리', '대한', '대해', '대하',\n",
       "                            '민원', '관련', '경우', '가정', '행복', '해당', '사항', '내용',\n",
       "                            '문의', '진행', '요청', '확인', '이용', '개최', '주민', '처리',\n",
       "                            '나라', '서울특별시', '생각', '여부', '연락', '주신', ...],\n",
       "                strip_accents=None, token_pattern='(?u)\\\\b\\\\w\\\\w+\\\\b',\n",
       "                tokenizer=None,\n",
       "                vocabulary=['가가', '가건물', '가게', '가격', '가결', '가계', '가곡', '가공',\n",
       "                            '가관', '가구', '가기', '가까이', '가끔', '가나', '가내', '가능',\n",
       "                            '가능성', '가다가', '가도', '가동', '가득', '가든', '가뜩이나', '가라',\n",
       "                            '가락', '가량', '가로', '가로등', '가로막', '가로변', ...])"
      ]
     },
     "execution_count": 9,
     "metadata": {},
     "output_type": "execute_result"
    }
   ],
   "source": [
    "query_tf"
   ]
  },
  {
   "cell_type": "code",
   "execution_count": 142,
   "metadata": {},
   "outputs": [],
   "source": [
    "def get_topics(components, feature_names, n=5):\n",
    "    for idx, topic in enumerate(components):\n",
    "        print(\"Topic %d:\" % (idx+1), [(feature_names[i], topic[i].round(2)) for i in topic.argsort()[:-n - 1:-1]])"
   ]
  },
  {
   "cell_type": "code",
   "execution_count": 143,
   "metadata": {
    "scrolled": true
   },
   "outputs": [
    {
     "name": "stdout",
     "output_type": "stream",
     "text": [
      "Topic 1: [('도로', 43078.28), ('차량', 18513.62), ('통행', 15790.54), ('인도', 9898.89), ('교통', 8973.07)]\n",
      "Topic 2: [('버스', 16602.46), ('마을', 8077.66), ('교통', 7128.51), ('노선', 5306.89), ('운행', 4676.11)]\n",
      "Topic 3: [('지역', 9250.17), ('용산', 8588.64), ('구민', 8177.66), ('거리', 5815.01), ('용산구', 5396.09)]\n",
      "Topic 4: [('도서관', 10096.64), ('운영', 9536.04), ('홈페이지', 6018.47), ('정보', 4521.34), ('인터넷', 3529.12)]\n",
      "Topic 5: [('건물', 25299.47), ('공사', 13739.08), ('건축', 12150.74), ('피해', 10348.98), ('신축', 9178.54)]\n",
      "Topic 6: [('과태료', 15562.08), ('부과', 12785.23), ('단속', 12709.28), ('담배', 9883.02), ('위반', 8531.97)]\n",
      "Topic 7: [('조합', 9140.97), ('주택', 8802.41), ('등록', 6349.41), ('서류', 4741.83), ('자동차', 4720.95)]\n",
      "Topic 8: [('신고', 21056.63), ('접수', 10832.17), ('부서', 9636.09), ('시정', 8504.26), ('현장', 7743.94)]\n",
      "Topic 9: [('안내', 10427.67), ('과장', 6524.26), ('강서', 6015.7), ('결과', 5295.77), ('지도', 4406.81)]\n",
      "Topic 10: [('주차', 75573.89), ('단속', 46828.63), ('불법', 32862.47), ('차량', 32423.13), ('주차장', 20513.9)]\n",
      "Topic 11: [('보호', 6507.72), ('길고양이', 3361.11), ('동물', 3301.34), ('고양이', 3069.11), ('지역', 3033.09)]\n",
      "Topic 12: [('공원', 22593.2), ('시설', 15838.56), ('아이', 10419.52), ('어린이', 8537.13), ('학교', 7491.43)]\n",
      "Topic 13: [('쓰레기', 30226.55), ('청소', 17877.38), ('수거', 13729.24), ('무단', 10477.68), ('투기', 9629.91)]\n",
      "Topic 14: [('어린이집', 9447.32), ('지원', 8025.85), ('복지', 5497.45), ('아이', 5419.77), ('장애인', 5123.34)]\n",
      "Topic 15: [('아파트', 27991.6), ('단지', 10998.92), ('계획', 6707.32), ('강남', 5292.98), ('강남구', 5285.83)]\n",
      "Topic 16: [('공사', 36668.54), ('소음', 33981.28), ('발생', 15364.54), ('현장', 12086.95), ('환경', 10815.22)]\n",
      "Topic 17: [('전화', 14185.11), ('직원', 14104.34), ('공무원', 10063.41), ('사과', 6640.87), ('오늘', 5305.56)]\n",
      "Topic 18: [('설치', 44390.97), ('자전거', 12191.93), ('도로', 6264.21), ('나무', 5053.0), ('가로등', 4817.1)]\n",
      "Topic 19: [('번지', 6187.89), ('발생', 5447.04), ('하수', 5017.91), ('냄새', 4791.06), ('발전', 4369.56)]\n",
      "Topic 20: [('사업', 25983.64), ('계획', 17267.16), ('정비', 14330.41), ('구역', 12965.05), ('도시', 10689.21)]\n",
      "Topic 21: [('건축', 12934.49), ('허가', 11372.91), ('건축물', 11124.63), ('시설', 10343.02), ('규정', 8613.62)]\n"
     ]
    }
   ],
   "source": [
    "terms = query_tf.get_feature_names()\n",
    "get_topics(lda.components_,terms)"
   ]
  },
  {
   "cell_type": "code",
   "execution_count": 2,
   "metadata": {},
   "outputs": [],
   "source": [
    "lda = joblib.load('minwon_lda.pkl')\n",
    "query_tf = joblib.load('minwon_query_tf.pkl')"
   ]
  },
  {
   "cell_type": "code",
   "execution_count": 81,
   "metadata": {},
   "outputs": [],
   "source": [
    "def set_query_topic(Q):\n",
    "    \"\"\"\n",
    "    Q: 검색어 (str)\n",
    "    return : topic번호 (0~14)\n",
    "    \"\"\"\n",
    "    Q_ = [Q]\n",
    "    query_tf_matrix = query_tf.fit_transform(Q_)\n",
    "    t = lda.transform(query_tf_matrix)\n",
    "    tnum=int(np.where(t[0]==max(t[0]))[0][0])\n",
    "    \n",
    "    if tnum==0 or tnum==1:\n",
    "        return 0\n",
    "    elif tnum==2 or tnum==3 or tnum==8:\n",
    "        return 1\n",
    "    elif tnum==4 or tnum==20:\n",
    "        return 2\n",
    "    elif tnum==5 or tnum==6 or tnum==7:\n",
    "        return tnum-2\n",
    "    elif tnum==9:\n",
    "        return 6\n",
    "    elif tnum==10 or tnum==13:\n",
    "        return 7\n",
    "    elif tnum==11 or tnum==12:\n",
    "        return tnum-3\n",
    "    elif tnum==14 or tnum==19:\n",
    "        return 10\n",
    "    else:\n",
    "        return tnum-4"
   ]
  },
  {
   "cell_type": "code",
   "execution_count": 76,
   "metadata": {},
   "outputs": [],
   "source": [
    "def district_stats(data,topic):\n",
    "    \"\"\"\n",
    "    data : DB에서 불러온 1년치데이터로 만들어진 DataFrame\n",
    "    topic : 검색어가 속한 토픽의 번호(0~14)\n",
    "    return : 토픽번호(int), 토픽이름(str), 지역구별 해당토픽의 비율(numpy.ndarray)\n",
    "    \"\"\"\n",
    "    \n",
    "    districtNo = {\"강서구\":2 , \"강남구\":3, \"강동구\":4, \"강북구\":5,\n",
    "               \"관악구\":6, \"광진구\":7, \"구로구\":8, \"금천구\":9,\n",
    "               \"노원구\":10, \"도봉구\":11, \"동대문구\":12, \"동작구\":13,\n",
    "               \"마포구\":14, \"서대문구\":15, \"서초구\":16, \"성동구\":17,\n",
    "                \"성북구\":18, \"송파구\":19, \"양천구\":20, \"영등포구\":21,\n",
    "                \"용산구\":22, \"은평구\":23, \"종로구\":24, \"중구\":25, \"중랑구\":26}\n",
    "    \n",
    "    topicNames = {0:\"교통\", 1:\"기타\", 2:\"건축\", 3:\"흡연\", 4:\"서류,등록\", 5:\"불법,단속\",\n",
    "            6:\"주차\", 7:\"가정,복지,동물\", 8:\"문화,체육\", 9:\"쓰레기\", 10:\"주거,아파트,재건축\",\n",
    "            11:\"공사,소음\", 12:\"고객 응대\", 13:\"시설물 설치\", 14:\"위생\"}\n",
    "        \n",
    "    #지역구별로 데이터프레임 생성.\n",
    "    districtDataFrames = [data[data.site_no==v] for v in districtNo.values()]\n",
    "    \n",
    "    totalResult = []\n",
    "    for df in districtDataFrames:\n",
    "        temp=[]\n",
    "        for i in range(0,15):\n",
    "            temp.append(len([_ for _ in df.topic if _==i])/len(df)*100)\n",
    "        totalResult.append(tuple(temp))\n",
    "    topicResult = np.array([_[topic] for _ in totalResult])\n",
    "    topicName = topicNames[topic]\n",
    "    \n",
    "    zipbObj = zip(districtNo.keys(), topicResult/max(topicResult))\n",
    "    result=dict(zipbObj)\n",
    "    final =list()\n",
    "    for i in result.keys():\n",
    "        temp={\"name\":i,\"rate\":result[i]}\n",
    "        final.append(temp)\n",
    "    \n",
    "    result = {\"topic\":topic,\"topicName\":topicName,\"result\":final}\n",
    "    json_result = json.dumps(result, indent=\"  \",ensure_ascii=False)    \n",
    "    return json_result"
   ]
  },
  {
   "cell_type": "code",
   "execution_count": 63,
   "metadata": {},
   "outputs": [],
   "source": [
    "def monthly_topic_stats(data,district,topic):\n",
    "    \"\"\"\n",
    "    data : DB에서 불러온 1년치데이터로 만들어진 DataFrame\n",
    "    district : 사용자가 클릭한 지역이름 ex)'송파구'\n",
    "    topic : 검색어가 속한 토픽의 번호(0~14)\n",
    "    return : 선택한 지역에서 1년간 해당토픽의 민원이 발생한 수(list)\n",
    "    \n",
    "    \"\"\"\n",
    "    \n",
    "    districtNo = {\"강서구\":2 , \"강남구\":3, \"강동구\":4, \"강북구\":5,\n",
    "           \"관악구\":6, \"광진구\":7, \"구로구\":8, \"금천구\":9,\n",
    "           \"노원구\":10, \"도봉구\":11, \"동대문구\":12, \"동작구\":13,\n",
    "           \"마포구\":14, \"서대문구\":15, \"서초구\":16, \"성동구\":17,\n",
    "            \"성북구\":18, \"송파구\":19, \"양천구\":20, \"영등포구\":21,\n",
    "            \"용산구\":22, \"은평구\":23, \"종로구\":24, \"중구\":25, \"중랑구\":26}\n",
    "    \n",
    "    data = data[data.site_no==districtNo[district]]\n",
    "    \n",
    "    now = datetime.now()\n",
    "    dateList = []\n",
    "    y = now.year\n",
    "    m = now.month\n",
    "    \n",
    "    while len(dateList)<12:\n",
    "        if m>0:\n",
    "            dateList.append(str(y)+'-'+'{0:02d}'.format(m%12))\n",
    "        elif m==0:\n",
    "            y_ = y-1\n",
    "            dateList.append(str(y_)+'-'+'{0:02d}'.format(m+12))\n",
    "        else:\n",
    "            y_ = y-1\n",
    "            dateList.append(str(y_)+'-'+'{0:02d}'.format(m%12))\n",
    "        m -=1\n",
    "    \n",
    "    \n",
    "    monthlyDataFrames=[]    #최근 12개월의 데이터를 각각 1개월씩 데이터프레임으로 만들어 배열에저장\n",
    "    for m in dateList:\n",
    "        monthlyDataFrames.append(data[[_.startswith(m) for _ in data.date]])\n",
    "    totalResult=[]    #최근 12개월의 민원중 해당 토픽의 민원의 갯수를 월별로 저장\n",
    "\n",
    "    for df in monthlyDataFrames:\n",
    "        totalResult.append(len([_ for _ in df.topic if _==topic]))\n",
    "        \n",
    "    return dateList,totalResult"
   ]
  },
  {
   "cell_type": "markdown",
   "metadata": {},
   "source": [
    "데이터 불러오기"
   ]
  },
  {
   "cell_type": "code",
   "execution_count": 64,
   "metadata": {},
   "outputs": [
    {
     "name": "stderr",
     "output_type": "stream",
     "text": [
      "/Users/heeseok/anaconda3/lib/python3.7/site-packages/IPython/core/interactiveshell.py:3057: DtypeWarning: Columns (1) have mixed types. Specify dtype option on import or set low_memory=False.\n",
      "  interactivity=interactivity, compiler=compiler, result=result)\n"
     ]
    }
   ],
   "source": [
    "data= pd.read_csv('jin_final_data.csv')"
   ]
  },
  {
   "cell_type": "markdown",
   "metadata": {},
   "source": [
    "지역구별 통계"
   ]
  },
  {
   "cell_type": "code",
   "execution_count": 158,
   "metadata": {},
   "outputs": [
    {
     "data": {
      "text/plain": [
       "0"
      ]
     },
     "execution_count": 158,
     "metadata": {},
     "output_type": "execute_result"
    }
   ],
   "source": [
    "set_query_topic('교통 혼잡')"
   ]
  },
  {
   "cell_type": "code",
   "execution_count": 157,
   "metadata": {},
   "outputs": [
    {
     "ename": "ValueError",
     "evalue": "too many values to unpack (expected 3)",
     "output_type": "error",
     "traceback": [
      "\u001b[0;31m---------------------------------------------------------------------------\u001b[0m",
      "\u001b[0;31mValueError\u001b[0m                                Traceback (most recent call last)",
      "\u001b[0;32m<ipython-input-157-07a545b15fb4>\u001b[0m in \u001b[0;36m<module>\u001b[0;34m\u001b[0m\n\u001b[0;32m----> 1\u001b[0;31m \u001b[0mt_id\u001b[0m\u001b[0;34m,\u001b[0m \u001b[0mt_name\u001b[0m\u001b[0;34m,\u001b[0m \u001b[0mresult\u001b[0m \u001b[0;34m=\u001b[0m\u001b[0mdistrict_stats\u001b[0m\u001b[0;34m(\u001b[0m\u001b[0mdata\u001b[0m\u001b[0;34m,\u001b[0m\u001b[0mset_query_topic\u001b[0m\u001b[0;34m(\u001b[0m\u001b[0;34m'송파구 가로등 보수작업'\u001b[0m\u001b[0;34m)\u001b[0m\u001b[0;34m)\u001b[0m\u001b[0;34m\u001b[0m\u001b[0;34m\u001b[0m\u001b[0m\n\u001b[0m",
      "\u001b[0;31mValueError\u001b[0m: too many values to unpack (expected 3)"
     ]
    }
   ],
   "source": [
    "t_id, t_name, result =district_stats(data,set_query_topic('송파구 가로등 보수작업'))"
   ]
  },
  {
   "cell_type": "code",
   "execution_count": 92,
   "metadata": {},
   "outputs": [
    {
     "data": {
      "text/plain": [
       "'{\\n  \"topic\": 13,\\n  \"topicName\": \"시설물 설치\",\\n  \"result\": [\\n    {\\n      \"name\": \"강서구\",\\n      \"rate\": 0.5003959074042448\\n    },\\n    {\\n      \"name\": \"강남구\",\\n      \"rate\": 0.3790022129471414\\n    },\\n    {\\n      \"name\": \"강동구\",\\n      \"rate\": 0.8145872335285947\\n    },\\n    {\\n      \"name\": \"강북구\",\\n      \"rate\": 0.5053848433949215\\n    },\\n    {\\n      \"name\": \"관악구\",\\n      \"rate\": 0.3357829282080272\\n    },\\n    {\\n      \"name\": \"광진구\",\\n      \"rate\": 0.41400817262886236\\n    },\\n    {\\n      \"name\": \"구로구\",\\n      \"rate\": 0.6326546332195034\\n    },\\n    {\\n      \"name\": \"금천구\",\\n      \"rate\": 0.21883289124668437\\n    },\\n    {\\n      \"name\": \"노원구\",\\n      \"rate\": 0.9082687846498644\\n    },\\n    {\\n      \"name\": \"도봉구\",\\n      \"rate\": 0.6453803425187762\\n    },\\n    {\\n      \"name\": \"동대문구\",\\n      \"rate\": 0.48463843035892623\\n    },\\n    {\\n      \"name\": \"동작구\",\\n      \"rate\": 0.6569380972164521\\n    },\\n    {\\n      \"name\": \"마포구\",\\n      \"rate\": 0.5313565170113549\\n    },\\n    {\\n      \"name\": \"서대문구\",\\n      \"rate\": 0.541871921182266\\n    },\\n    {\\n      \"name\": \"서초구\",\\n      \"rate\": 0.5779690552885886\\n    },\\n    {\\n      \"name\": \"성동구\",\\n      \"rate\": 0.5534852272905956\\n    },\\n    {\\n      \"name\": \"성북구\",\\n      \"rate\": 1.0\\n    },\\n    {\\n      \"name\": \"송파구\",\\n      \"rate\": 0.6505044421020931\\n    },\\n    {\\n      \"name\": \"양천구\",\\n      \"rate\": 0.7152541163458622\\n    },\\n    {\\n      \"name\": \"영등포구\",\\n      \"rate\": 0.4752859647658012\\n    },\\n    {\\n      \"name\": \"용산구\",\\n      \"rate\": 0.4727824766861853\\n    },\\n    {\\n      \"name\": \"은평구\",\\n      \"rate\": 0.7785843920145192\\n    },\\n    {\\n      \"name\": \"종로구\",\\n      \"rate\": 0.5044607056936649\\n    },\\n    {\\n      \"name\": \"중구\",\\n      \"rate\": 0.3695844385499559\\n    },\\n    {\\n      \"name\": \"중랑구\",\\n      \"rate\": 0.6083818030743664\\n    }\\n  ]\\n}'"
      ]
     },
     "execution_count": 92,
     "metadata": {},
     "output_type": "execute_result"
    }
   ],
   "source": [
    "result"
   ]
  },
  {
   "cell_type": "code",
   "execution_count": 66,
   "metadata": {},
   "outputs": [
    {
     "data": {
      "text/plain": [
       "(13,\n",
       " '시설물 설치',\n",
       " array([0.50039591, 0.37900221, 0.81458723, 0.50538484, 0.33578293,\n",
       "        0.41400817, 0.63265463, 0.21883289, 0.90826878, 0.64538034,\n",
       "        0.48463843, 0.6569381 , 0.53135652, 0.54187192, 0.57796906,\n",
       "        0.55348523, 1.        , 0.65050444, 0.71525412, 0.47528596,\n",
       "        0.47278248, 0.77858439, 0.50446071, 0.36958444, 0.6083818 ]))"
      ]
     },
     "execution_count": 66,
     "metadata": {},
     "output_type": "execute_result"
    }
   ],
   "source": [
    "t_id,t_name,result"
   ]
  },
  {
   "cell_type": "markdown",
   "metadata": {},
   "source": [
    "특정지역 선택시"
   ]
  },
  {
   "cell_type": "code",
   "execution_count": 167,
   "metadata": {
    "scrolled": true
   },
   "outputs": [],
   "source": [
    "dateList, result_ = monthly_topic_stats(data,\"송파구\",set_query_topic('송파구 가로등 보수'))"
   ]
  },
  {
   "cell_type": "code",
   "execution_count": 168,
   "metadata": {},
   "outputs": [
    {
     "data": {
      "text/plain": [
       "[6, 14, 6, 9, 9, 7, 5, 16, 24, 12, 23, 32]"
      ]
     },
     "execution_count": 168,
     "metadata": {},
     "output_type": "execute_result"
    }
   ],
   "source": [
    "result_"
   ]
  },
  {
   "cell_type": "code",
   "execution_count": 155,
   "metadata": {
    "scrolled": true
   },
   "outputs": [
    {
     "name": "stdout",
     "output_type": "stream",
     "text": [
      "시설물 설치\n"
     ]
    },
    {
     "data": {
      "text/plain": [
       "[<matplotlib.lines.Line2D at 0x1a212a8978>]"
      ]
     },
     "execution_count": 155,
     "metadata": {},
     "output_type": "execute_result"
    },
    {
     "data": {
      "image/png": "[encoded data removed]",
      "text/plain": [
       "<Figure size 432x288 with 1 Axes>"
      ]
     },
     "metadata": {
      "needs_background": "light"
     },
     "output_type": "display_data"
    }
   ],
   "source": [
    "print(t_name)\n",
    "plt.plot(dateList[::-1],result_[::-1])"
   ]
  },
  {
   "cell_type": "code",
   "execution_count": null,
   "metadata": {},
   "outputs": [],
   "source": []
  },
  {
   "cell_type": "code",
   "execution_count": null,
   "metadata": {},
   "outputs": [],
   "source": []
  },
  {
   "cell_type": "code",
   "execution_count": null,
   "metadata": {},
   "outputs": [],
   "source": []
  },
  {
   "cell_type": "markdown",
   "metadata": {},
   "source": [
    "LDA, CounterVectorizer 학습시킨과정"
   ]
  },
  {
   "cell_type": "code",
   "execution_count": null,
   "metadata": {},
   "outputs": [],
   "source": [
    "stop_words = ['말씀', '안녕', '서울','서울시', '관리','대한','대해','대하','민원','관련','경우','가정','행복',\n",
    "             '해당','사항','내용','문의','진행','요청','확인','이용','개최','주민','처리','나라','서울특별시',\n",
    "             '생각','여부','연락','주신','구정','구청','시간','부탁','조치','의견','관심','첨부파일',\n",
    "              '관련','하십니까','애정','하십니까','주시','고객','안녕하십니까','사람','시민','선생님','답변','신청',\n",
    "             '기타','때문','현실','주무관','성심','성의껏','양해','다시','한번','다시한번','저희','때문','추후','질문',\n",
    "             '어디','거기','여기','저기','실시','최선','먼저','성심껏','사진','사용','정말','문제','아래','불편','주시',\n",
    "              '본인','업무','가정','행복','제발','정도','부분','읍니']\n",
    "\n",
    "from sklearn.feature_extraction.text import CountVectorizer\n",
    "from sklearn.decomposition import LatentDirichletAllocation"
   ]
  },
  {
   "cell_type": "code",
   "execution_count": null,
   "metadata": {},
   "outputs": [],
   "source": [
    "data_ = data[data.site_no!=0]\n",
    "data_ = data_[data_.stie_no!=1]\n",
    "num_removed=[re.sub('\\d','',data_.controlled_collection.iloc[_]) for _ in range(len(data_.controlled_collection))]\n",
    "raw_tf = CountVectorizer(max_features=5000,stop_words=set(stop_words))\n",
    "raw_tf_matrix = raw_tf.fit_transform(num_removed)"
   ]
  },
  {
   "cell_type": "code",
   "execution_count": null,
   "metadata": {},
   "outputs": [],
   "source": [
    "temp = []\n",
    "\n",
    "for i in range(1,100):\n",
    "\n",
    "    lda = LatentDirichletAllocation(n_components=i,learning_method='online',max_iter=10,\n",
    "                                    doc_topic_prior=1, topic_word_prior=0.1)\n",
    "    result = lda.fit_transform(raw_tf_matrix)\n",
    "    terms = raw_tf.get_feature_names()\n",
    "    get_topics(lda.components_,terms)\n",
    "    perp = lda.perplexity(raw_tf_matrix)\n",
    "    temp.append(perp)\n",
    "    print(i,\"preplexity : \",perp,'\\n')\n",
    "\n",
    "    \n",
    "\n",
    "\n",
    "plt.plot(range(1,100),np.array(temp))"
   ]
  },
  {
   "attachments": {
    "image.png": {
     "image/png": "[encoded data removed]"
    }
   },
   "cell_type": "markdown",
   "metadata": {},
   "source": [
    "![image.png](attachment:image.png)"
   ]
  },
  {
   "cell_type": "code",
   "execution_count": null,
   "metadata": {},
   "outputs": [],
   "source": [
    "lda = LatentDirichletAllocation(n_components=21,learning_method='online',max_iter=15,\n",
    "                                doc_topic_prior=1, topic_word_prior=0.1)\n",
    "result = lda.fit_transform(raw_tf_matrix)\n",
    "terms = raw_tf.get_feature_names()\n",
    "get_topics(lda.components_,terms)\n",
    "perp = lda.perplexity(raw_tf_matrix)\n",
    "print(\"preplexity : \",perp)\n"
   ]
  }
 ],
 "metadata": {
  "kernelspec": {
   "display_name": "Python 3",
   "language": "python",
   "name": "python3"
  },
  "language_info": {
   "codemirror_mode": {
    "name": "ipython",
    "version": 3
   },
   "file_extension": ".py",
   "mimetype": "text/x-python",
   "name": "python",
   "nbconvert_exporter": "python",
   "pygments_lexer": "ipython3",
   "version": "3.7.3"
  }
 },
 "nbformat": 4,
 "nbformat_minor": 2
}
