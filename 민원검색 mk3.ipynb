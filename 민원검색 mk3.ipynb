{
 "cells": [
  {
   "cell_type": "code",
   "execution_count": 1,
   "metadata": {},
   "outputs": [
    {
     "name": "stderr",
     "output_type": "stream",
     "text": [
      "/Users/heeseok/anaconda3/lib/python3.7/site-packages/jpype/_core.py:210: UserWarning: \n",
      "-------------------------------------------------------------------------------\n",
      "Deprecated: convertStrings was not specified when starting the JVM. The default\n",
      "behavior in JPype will be False starting in JPype 0.8. The recommended setting\n",
      "for new code is convertStrings=False.  The legacy value of True was assumed for\n",
      "this session. If you are a user of an application that reported this warning,\n",
      "please file a ticket with the developer.\n",
      "-------------------------------------------------------------------------------\n",
      "\n",
      "  \"\"\")\n"
     ]
    }
   ],
   "source": [
    "import nltk\n",
    "from nltk.tokenize import word_tokenize\n",
    "from string import punctuation\n",
    "import re\n",
    "from konlpy.tag import Okt\n",
    "import pandas as pd\n",
    "import numpy as np\n",
    "from collections import defaultdict\n",
    "from sklearn.feature_extraction.text import TfidfVectorizer\n",
    "from sklearn.metrics.pairwise import linear_kernel\n",
    "okt=Okt()"
   ]
  },
  {
   "cell_type": "code",
   "execution_count": 13,
   "metadata": {},
   "outputs": [
    {
     "name": "stdout",
     "output_type": "stream",
     "text": [
      "{'message_id': 24, 'date': 1566544895, 'chat': {'id': 612130331, 'type': 'private', 'first_name': 'h', 'last_name': 'js'}, 'text': 'hi', 'entities': [], 'caption_entities': [], 'photo': [], 'new_chat_members': [], 'new_chat_photo': [], 'delete_chat_photo': False, 'group_chat_created': False, 'supergroup_chat_created': False, 'channel_chat_created': False, 'from': {'id': 612130331, 'first_name': 'h', 'is_bot': False, 'last_name': 'js', 'language_code': 'ko'}}\n",
      "{'message_id': 33, 'date': 1566546097, 'chat': {'id': 612130331, 'type': 'private', 'first_name': 'h', 'last_name': 'js'}, 'text': 'ㄱㅅㄱㅅ', 'entities': [], 'caption_entities': [], 'photo': [], 'new_chat_members': [], 'new_chat_photo': [], 'delete_chat_photo': False, 'group_chat_created': False, 'supergroup_chat_created': False, 'channel_chat_created': False, 'from': {'id': 612130331, 'first_name': 'h', 'is_bot': False, 'last_name': 'js', 'language_code': 'ko'}}\n",
      "{'message_id': 34, 'date': 1566626291, 'chat': {'id': 612130331, 'type': 'private', 'first_name': 'h', 'last_name': 'js'}, 'text': 'ㅎㅎ', 'entities': [], 'caption_entities': [], 'photo': [], 'new_chat_members': [], 'new_chat_photo': [], 'delete_chat_photo': False, 'group_chat_created': False, 'supergroup_chat_created': False, 'channel_chat_created': False, 'from': {'id': 612130331, 'first_name': 'h', 'is_bot': False, 'last_name': 'js', 'language_code': 'ko'}}\n"
     ]
    },
    {
     "data": {
      "text/plain": [
       "<telegram.message.Message at 0x1a3ae1aac8>"
      ]
     },
     "execution_count": 13,
     "metadata": {},
     "output_type": "execute_result"
    }
   ],
   "source": [
    "import telepot\n",
    "from telegram.bot import Bot\n",
    "\n",
    "my_token = '900554116:AAGPWCrlk4QsIItA54KPR02MWNB2C7a-tCM'\n",
    "\n",
    "bot = Bot(token = my_token)\n",
    "\n",
    "updates = bot.getUpdates() \n",
    "for u in updates:\n",
    "    print(u.message)\n",
    "\n",
    "chat_id = bot.getUpdates()[-1].message.chat.id\n",
    "chat_id\n",
    "\n",
    "bot.sendMessage(chat_id = chat_id, text=\"안녕하세요\")"
   ]
  },
  {
   "cell_type": "code",
   "execution_count": 5,
   "metadata": {},
   "outputs": [],
   "source": [
    "def searchResult(_Q):\n",
    "    \n",
    "    searchResult = defaultdict(int)\n",
    "\n",
    "    with open('new_postings.txt') as Postings_:\n",
    "        for t in _Q:\n",
    "\n",
    "            j = V.index(t)\n",
    "            nextPosition = Dictionary[j]\n",
    "            while True:\n",
    "                Postings_.seek(nextPosition)\n",
    "                _struct = [int(_.strip()) for _ in Postings_.readline().split(\",\")]\n",
    "                #_struct[1] => 몇번나왔니\n",
    "                searchResult[_struct[0]] +=1\n",
    "                nextPosition = _struct[2]\n",
    "\n",
    "                if nextPosition == -1:\n",
    "\n",
    "                    break\n",
    "        totalResult = sorted(searchResult.items(), key=lambda x:x[1], reverse=True)\n",
    "    \n",
    "    return totalResult"
   ]
  },
  {
   "cell_type": "code",
   "execution_count": 6,
   "metadata": {},
   "outputs": [],
   "source": [
    "def select_result(totalResult):\n",
    "    mx = max([_[1] for _ in totalResult])\n",
    "    \n",
    "    index_list=[]\n",
    "    \n",
    "    while sum([len(_) for _ in index_list])<=50 and mx>0:\n",
    "        \n",
    "        index_list.append([_[0] for _ in totalResult if _[1]==mx])\n",
    "        mx -=1\n",
    "        \n",
    "    return index_list"
   ]
  },
  {
   "cell_type": "code",
   "execution_count": 7,
   "metadata": {},
   "outputs": [],
   "source": [
    "def minwon_search(Q,data):\n",
    "    _Q = [_[0] for _ in okt.pos(Q) if _[1].startswith(\"N\") and _[0] in V]\n",
    "    totalResult = searchResult(_Q)\n",
    "    _Q = ' '.join(_Q)\n",
    "    print(_Q)\n",
    "    index_result = select_result(totalResult)\n",
    "    \n",
    "    ##########---------------------------------------#########\n",
    "    #      여기까지하면 index_result[i] :mx-i개 키워드 포함한 doc_id#\n",
    "    ##########---------------------------------------#########\n",
    "    \n",
    "    \n",
    "    rankedIdx=[]\n",
    "    for i in range(len(index_result)):\n",
    "        #######-----------------------------##################\n",
    "        #     db에서 불러와야하면                                #\n",
    "        # index_result[i]에 있는 doc_id들로 불러와서             #\n",
    "        # dataFrame을 만들어야한다                             #\n",
    "        #######-----------------------------################\n",
    "        temp = data.controlled_collection[index_result[i]]\n",
    "        temp = np.append(temp,_Q)\n",
    "        tfidf = TfidfVectorizer(vocabulary=V,sublinear_tf=True)\n",
    "        tf_idf_matrix = tfidf.fit_transform(temp)\n",
    "        cosine_sim = linear_kernel(tf_idf_matrix,tf_idf_matrix)\n",
    "        cosine_sim = sorted(cosine_sim, key=lambda x:x[-1], reverse=True)[1:51]\n",
    "        for _ in cosine_sim:\n",
    "            idx = np.where(_==max(_))[0][0]\n",
    "            rankedIdx.append(index_result[i][idx])\n",
    "\n",
    "    return rankedIdx"
   ]
  },
  {
   "cell_type": "markdown",
   "metadata": {},
   "source": [
    "데이터 읽어오기"
   ]
  },
  {
   "cell_type": "code",
   "execution_count": 2,
   "metadata": {},
   "outputs": [
    {
     "name": "stderr",
     "output_type": "stream",
     "text": [
      "/Users/heeseok/anaconda3/lib/python3.7/site-packages/IPython/core/interactiveshell.py:3057: DtypeWarning: Columns (1) have mixed types. Specify dtype option on import or set low_memory=False.\n",
      "  interactivity=interactivity, compiler=compiler, result=result)\n"
     ]
    },
    {
     "data": {
      "text/plain": [
       "116508"
      ]
     },
     "execution_count": 2,
     "metadata": {},
     "output_type": "execute_result"
    }
   ],
   "source": [
    "data = pd.read_csv('new_mashed_up.csv')\n",
    "len(data)"
   ]
  },
  {
   "cell_type": "markdown",
   "metadata": {},
   "source": [
    "lexicon 읽어오기"
   ]
  },
  {
   "cell_type": "code",
   "execution_count": 3,
   "metadata": {},
   "outputs": [],
   "source": [
    "termLex = pd.read_csv('new_dictionary.csv')\n",
    "\n",
    "Dictionary = defaultdict(lambda:-1)\n",
    "for idx,pos in enumerate(termLex.dictionary):\n",
    "    Dictionary[idx]=pos\n",
    "    \n",
    "V = termLex.vocabulary.to_list()"
   ]
  },
  {
   "cell_type": "code",
   "execution_count": 8,
   "metadata": {},
   "outputs": [
    {
     "name": "stdout",
     "output_type": "stream",
     "text": [
      "한남동 폐차\n",
      "[105351, 18532, 102267, 103922, 71937, 79002, 76219, 79877, 98560, 1543, 81007, 1517, 105606, 71939, 78750, 77963, 36775, 44076, 70155, 69598, 86321, 99931, 82335, 57817, 79658, 43501, 43501, 106874, 105405, 32521, 75074, 44965, 66147, 110855, 43511, 43511, 58062, 40303, 79976, 36813, 68875, 46083, 89435, 1541, 94985, 102255, 100786, 9446, 93981, 40427, 1010]\n"
     ]
    }
   ],
   "source": [
    "result = rankedIdx = minwon_search('한남동 폐차',data)\n",
    "print(result)\n"
   ]
  },
  {
   "cell_type": "code",
   "execution_count": 20,
   "metadata": {},
   "outputs": [
    {
     "name": "stdout",
     "output_type": "stream",
     "text": [
      "폐기 차량 처분 요청 및 불법 주차 단속    조회수: 113\n",
      "\n",
      "\n",
      "---------------------------------------\n",
      "한남동 732-13 우진 주택앞, 이슬람서원 입구 우측 골목에 주인없이 폐차가 방치 되어 있는데 처리를 해주셨으면 합니다.(번호 : 61버 2046)\n",
      " 그리고 주택 앞에 구청에거 발급한 주차금지 표지가 있는데도 불구하고 여전히 불법주차를 하고 있는데\n",
      "단속을 해주셨으면 합니다. \n",
      " 마지막으로 이슬람서원은 많은 관광객들이 찾아오는 곳입니다. 주변의 청소가 요즘 거의 이루어지고 있지 않습니다. \n",
      " 주민들의 보다 쾌적하고 관광객들에게 한국의 좋은 이미지를 심어주었으면 합니다.\n",
      " 감사합니다\n",
      "\n",
      "\n",
      "---------------------------------------\n",
      "안녕하십니까? 우리구의 발전을 위해 항상 협조하여 주시는 귀하께 감사드리며, 귀하께서 “불법주정차 단속과 관련하여 민원신청”하신 사항에 대해 답변 드리겠습니다.   [답변내용] 귀하께서 요청하신 한남동 732-13 우진 주택 주변 상습 불법주차 차량에 대하여 주기적인 순회단속을 실시하여 불법주정차 근절을 위해 최선을 다할 것임을 알려드립니다. 불법주정차로 불편을 겪으실 경우 평일주간(09:00~18:00)에는 교통지도과(☎2199-7800)로 연락주시기 바라며 야간 및 토,일(공휴일)에는 또는 용산구청 당직실(☎2199-6300)로 연락주시면 현장 출동하여 신속히 처리토록 하겠습니다. 또한, 우리구는 PDA시스템을 이용한 민원처리 전담 단속차량 4대가 교대로 단속 민원을 처리하고 있음을 알려드립니다. 우리구 주차질서 확립을 위하여 건의 해주신 귀하께 감사드리며, 귀하의 가정에 건강과 행운이 함께 하시길 기원합니다. 감사합니다.                           2011. 1. 21.    교통지도과(02-2199-7800) 담당: 한광수 / 팀장: 설동한 / 과장: 윤두용-------------------------------------------------------------------------------------------------------------[협조부서] : 건설교통국 교통행정과 [답변일자] : 2011-01-17 17:10:24[작성자] : 이선희 [전화번호] : 2199-6982 [이메일] : sunny8892@hanmail.net[답변내용] : 안녕하십니까?구정발전에 많은 관심을 가져주시는 귀하께 감사의 말씀을 드립니다.귀하께서 2011. 1.14 신고하신 한남동 732-13 우진주택앞 이슬람서원 입구 우측골목상 무단방치차량 (61버 2046)에 대하여는 2011. 1.14 당일 자진 폐차처리 되었음을 알려드립니다. 구정 발전에 애정을 가지고 조언해 주신 귀하께 감사의 말씀을 드리며 가정에 늘 건강과 행운이 함께하시길 바랍니다.2011. 1. 17-------------------------------------------------------------------------------------------------------------[협조부서] : 한남동 [답변일자] : 2011-01-20 13:38:36[작성자] : 김대영 [전화번호] : 02-2199-8660 [이메일] : gdy3ys@yomgsan.go.kr[답변내용] : 안녕하십니까?   저희 한남동에 깊은 관심을 가져주시는 선생님께 감사드립니다.먼저 한남동 불법주차 및 청소 관련 문제로 인하여 불편하게 해드린 점 죄송함과 사과의 말씀을 드립니다. 선생님께서 불편해 하신 사항에 대해 답변 드리겠습니다.현재, 이슬람사원 주변은 용산구청 교통지도과 및 한남동주민센터에서 순찰을 돌면서 지속적으로 단속은 하고 있습니다. 앞으로도 이슬람사원일대는 교통지도과 및 한남동주민센터에서 지속적으로 순찰을 하여 선생님께서 불편해하신 불법주차를 최소화하도록 노력하겠습니다.또한, 이슬람사원 주변은 외국인들이 많이 살고 있어 무단투기가 많은 장소입니다. 한남동에서는 지속적인 순찰로 무단투기자에 대한 계도 및 단속 그리고 골목청소를 실시함으로써 깨끗한 한남동을 만들기 위하여 노력하겠습니다.    선생님과 선생님 가정에 늘 건강과 행운이 함께 하시길 기원합니다.    감사합니다.한남동 주민센터(☎ 2199-8660~3, FAX:796-4230)담당 김대영, 김자윤, 김학범 / 담당주사 조호영 / 동장 강대호\n",
      "※ 첨부파일 : \n",
      "1.JPG\n",
      "2.JPG\n",
      "=======================================\n",
      "조기폐차 대상 선정 후 폐차 완료 기한    조회수: 2\n",
      "\n",
      "\n",
      "---------------------------------------\n",
      "조기폐차 신청 후  대상 차량으로 선정이 되었는데,  조기폐차 지원금 신청을 위한  폐차완료 시기가 정해져 있나요?\n",
      "\n",
      "\n",
      "---------------------------------------\n",
      "○ 환경부에서는 배출가스 5등급 경유자동차에 대하여 저공해조치 및 조기폐차 등 저감사업을 진행하고 있으며,  조기폐차 시 지급대상 확인서 발급 후 2개월 이내에 지급청구서를 제출하도록 되어있음을 알려드립니다. \n",
      "\n",
      " \n",
      "\n",
      "※ 본 회신내용은 해당 질의에만 국한되어 개별 사실관계의 변동 등으로 인한 유사사례인 경우에 본 회신내용과 다른 해석이 있을 수 있음을 알려드립니다.\n",
      "=======================================\n",
      "구청에서 수거(?)한 길거리 오토바이를 개인이 구매 가능한지요....    조회수: 110\n",
      "\n",
      "\n",
      "---------------------------------------\n",
      "안녕하십니까.\n",
      "제가 듣기로, 길거리에 오토바이가 장기간 방치되면 구청에서 수거하여 업자에게 판매를 한다고 들었습니다. 만약, 사실이라면 그 오토바이를 개인도 살 수 있는지 문의를 드립니다. 가능하다면 절차라던가 비용이라던가 기타 등등을 좀 알려 주시면 감사하겠습니다.\n",
      "\n",
      "\n",
      "---------------------------------------\n",
      "구청에선 무단방치 자동차를 행정절차에 따라 안내, 자진처리예고, 자진처리명령, 공고 등의 절차를 따라 아내 한 후에 폐차장에 폐차 의뢰하여 강제처리(폐차)하고 있습니다.\n",
      "=======================================\n",
      "자동차 말소등록 관련    조회수: 89\n",
      "\n",
      "\n",
      "---------------------------------------\n",
      "수고많으십니다\n",
      " 자동차 말소등록신청시 필수서류로 \"폐차인수증명서\"를 첨부하도록 되어 있습니다\n",
      "차량소유자가 알아서 폐차시키고 인수증명서를 가져와야 된다고 하는데\n",
      "시중에는 (무)허가업체가 많아 어디에 폐차 신청해야하는지 모르겠네요\n",
      " 1. 공인된 폐차인수업체를 알려주세요?\n",
      "2. 자동차 관련 세금징수등 모든 조치는 다하면서 왜 폐차인수는 국가(구청)에서 하지안나요?\n",
      "3. 폐차인수증명서 없이 자동차등록원부와 등록번호판(앞뒤)만 제출하면 말소등록처리가 가능한지요?\n",
      "\n",
      "\n",
      "---------------------------------------\n",
      "○ 우리 구정에 관심을 가져주신 강대운 귀하께 우선 감사의 말씀을 드리며, 귀하께서 3월 17일자로 우리구에 제기하여 주신 민원상담에 대하여 아래와 같이 답변드리겠습니다.                  1. 현재 우리구 자동차관리과로 관허 폐차업체의 명단이 통보되지 않고 있으며, 한국자동차해체재활용업협회(http://www.kadra.or.kr)의 웹사이트를 통해 폐차업체를 검색가능한 것으로 알고 있으나, 관청에서 따로 민간의 폐차장을 소개해주거나 연결해드릴 수 없다는 점 양해 부탁드립니다.                   2. 폐차인수는 폐차업체에서만 가능하며, 폐차인수증명서도 폐차업체에서만 발급가능한 점 양해부탁드리며, 구청에서는 폐차를 인수할 수 없음을 알려드립니다.                  3. 해당 자동차의 폐차 여부를 폐차인수증명서로 증빙하고 있으므로 필수적으로 제출하셔야 하는 서류임을 알려드립니다. 현재 폐차말소 시에, 소유자가 각 구청 차량등록과에 방문하시거나 폐차업체에 폐차말소를 대행시키실 수 있음을 참고하시기 바랍니다.기타 자세한 문의사항은 02-2670-3879(담당자 : 김소영)으로 전화주시면 자세히 안내해드리겠습니다. 강대운 님의 가정에 늘 평화와 행복이 가득하길 기원합니다.  끝.\n",
      "=======================================\n",
      "자동차 등록 말소 과태료    조회수: 117\n",
      "\n",
      "\n",
      "---------------------------------------\n",
      "안녕하세요...\n",
      "자동차 등록 말소 기간이 자동차 폐차 이후 1달 이내에 반드시 신고해야 하는 것으로 알고 있습니다.\n",
      "그렇다면 한달 이내에 신고하지 않을 경우 과태료는 얼마 정도 됩니까?\n",
      "\n",
      "\n",
      "---------------------------------------\n",
      "안녕하세요. \n",
      " 폐차말소등록은 폐차인수증명서상의 폐차일로부터 30일이내에 해야하며 허가기간 경과후\n",
      " 10일이내는 5만원, 10일이 경과 후는 매1일 초과시마다 1만원씩 최고 50만원까지 부과됩니\n",
      " 다  .  그러하오니 기한내에 말소등록을 이행하여주시기 바랍니다. \n",
      "  말소등록업무에대해 더 자세한 상담을 원하시면 말소등록담당 성은정 (02-450-1480)에게\n",
      " 연락주시기 바랍니다.   성심껏 답변해 드리겠습니다. \n",
      " 좋은하루 보내세요.\n",
      "=======================================\n",
      "2002년차량을폐차가안되는상황에서폐차장에입고를한상태입니다    조회수: 108\n",
      "\n",
      "\n",
      "---------------------------------------\n",
      "앞 제목과 같이 2002년 차량을 폐차장에 입고를 시키고 있는 상황인데요 2002년차량이라서2010년에 폐차가 가능하다고 하네요 그런데 계속 차량에 관한 세금이 계속 나오는데 저로선 어덯게 해야 하는지 모르겠습니다 폐차 입고증이 있는데 이걸로 어떤 해결책이 있을까요??답변 꼭 부탁 드립니다\n",
      "\n",
      "\n",
      "---------------------------------------\n",
      "1. 평소 구정발전에 협조하여 주시는 귀하께 감사드립니다.         2. 귀하께서 서울70루9686 차량에 대하여 2002년 차량이 폐차가 안되는 상황에서 폐차장에 입고하여 폐차입고증으로 자동차세 해결책이 있는지 알고 싶다는 민원내셨습니다.          3. 자동차세는 지방세법 제196조의2 및 제196조의3의 규정에 따라 자동차 등록원부상의 소유자를 납세의무자로 하는 대장과세를 원칙으로 하고 있으며 또한 동법제196조의4 제5호 및 동법시행령 제146조의2 제2항 제5호에서 규정한「자동차관리법」에 의한 자동차폐차업소에서 폐차되었음이 증명되는 자동차에 대하여 자동차세를 비과세 하고 있습니다.          4.귀하의 경우 폐차입고증이 있다고 하였으나 일부폐차업자의 제도악용으로 문제점이있어 자동차폐차업소에서 발행하는「폐차인수증명서」가 있어야 하고 폐차인수증명서 발급일 이후의 자동차세는 비과세 처리해 드림을 알려드립니다.         5. 더 궁금하신 사항이 있으시면 우리구청 부과과(☎2289-1261, 박수옥)로 전화주시면 친절히 답변해드리겠습니다. 귀하의 가정에 건강과 행복이 가득하시길 바랍니다. 감사합니다. 끝.\n",
      "=======================================\n",
      "주차위반 의견진술서 작성및 첨부서류    조회수: 92\n",
      "\n",
      "\n",
      "---------------------------------------\n",
      "출근중 차량고장으로 이동불가하여 갓길에주차 출근하였고 이후 정비의뢰하여 수리보다 폐차가 유리하다하여\n",
      " 폐차등록업체에 폐차함. 첨부서류 확인\n",
      "※ 첨부파일 : \n",
      "scan0004.pdf\n",
      "scan0003.pdf\n",
      "scan0001.pdf\n",
      "\n",
      "\n",
      "---------------------------------------\n",
      "5월 30일 자로 의견진술 접수하여, 의견진술 심의회의 결과를 서면(일반우편)로 발송하겠습니다.\n",
      "=======================================\n",
      "자동차 말소대수    조회수: 91\n",
      "\n",
      "\n",
      "---------------------------------------\n",
      "수고하십니다.  다름이 아니라 1)구청에 등록된 폐차장과 영업소가 몇개가 있는지알고 싶습니다.               2)2007년 1년간 자동차 말소대수도 알고싶습니다. ㄷ두가지를 이메일로 보내주시면 고맙겠습니다.\n",
      "\n",
      "\n",
      "---------------------------------------\n",
      "- 도봉구청에 등록된 폐차장은 없고 영업소는 1개소 입니다- 2007년 자동차 말소대수는 2,565대 입니다.\n",
      "=======================================\n",
      "자동차세 관련    조회수: 145\n",
      "\n",
      "\n",
      "---------------------------------------\n",
      "바쁜 행정에 고생이 많습니다.\n",
      "자동차세 1년치를 납부하면 할인을 해준다해서 1년치를 납부하였는데\n",
      "제차를 5월12일 폐차하고 다른 중고차를 구입하였습니다.\n",
      "이럴경우 미리 납부한 자동차세를 돌려 받을 수있는지 여부와\n",
      "만약 받을 수 있다면 절차를 알려 주시기 바랍니다.\n",
      "\n",
      "\n",
      "---------------------------------------\n",
      "지방행정에 관심을 기울이시는 귀하께 감사드립니다자동차세를 연납하고 소유권이전이나 폐차시에는 이전일이나 폐차일이후에는 당연히 자동차세가 환불처리됩니다.귀하께서 유선상으로 말씀하신 은행계좌번호로 빠른 시일내에 입금처리 될것입니다.감사합니다.\n",
      "=======================================\n"
     ]
    }
   ],
   "source": [
    "for _ in rankedIdx[:5]:\n",
    "    print(re.sub(r\"\\r\",'\\n',data.iloc[_].title.strip()),'   조회수:',int(data.iloc[_]['view']))\n",
    "    print('\\n')\n",
    "    print('---------------------------------------')\n",
    "    print(re.sub(r\"\\r|<br\\/>\",'\\n',data.iloc[_].question.strip()))\n",
    "    print('\\n')\n",
    "    print('---------------------------------------')\n",
    "    print(re.sub(r\"\\r|<br\\/>\",'\\n',data.iloc[_].ans.strip()))\n",
    "    print('=======================================')"
   ]
  },
  {
   "cell_type": "markdown",
   "metadata": {},
   "source": [
    "# Posting 만들기"
   ]
  },
  {
   "cell_type": "code",
   "execution_count": 45,
   "metadata": {
    "collapsed": true
   },
   "outputs": [
    {
     "name": "stdout",
     "output_type": "stream",
     "text": [
      "50\n",
      "100\n",
      "150\n",
      "200\n",
      "250\n",
      "300\n",
      "350\n",
      "400\n",
      "450\n",
      "500\n",
      "550\n",
      "600\n",
      "650\n",
      "700\n",
      "750\n",
      "800\n",
      "850\n",
      "900\n",
      "950\n",
      "1000\n"
     ]
    }
   ],
   "source": [
    "from collections import defaultdict\n",
    "\n",
    "V = list()\n",
    "D = list()\n",
    "Dictionary = defaultdict(lambda:-1)\n",
    "\n",
    "Postings = open('./new_postings.txt', 'w')\n",
    "\n",
    "\n",
    "\n",
    "for d in collection[:10000]:\n",
    "\n",
    "    i = len(D)\n",
    "    D.append(i)\n",
    "    localPostings = defaultdict(int)\n",
    "    \n",
    "\n",
    "    for t in [_[0] for _ in okt.pos(d) if _[1].startswith(\"N\") and len(_[0])>1]:\n",
    "        if t not in V:\n",
    "            V.append(t)\n",
    "        j = V.index(t)\n",
    "        localPostings[j] += 1\n",
    "        \n",
    "    for j, f in localPostings.items():\n",
    "        nextPosition = Dictionary[j]\n",
    "        _struct = (i, f, nextPosition)\n",
    "        Dictionary[j] = Postings.tell()\n",
    "        Postings.write(str(_struct[0])+','+str(_struct[1])+','+str(_struct[2])+'\\n')\n",
    "        \n",
    "    if len(D)%50 ==0:\n",
    "        print(len(D))\n",
    "    \n",
    "Postings.close()  "
   ]
  },
  {
   "cell_type": "code",
   "execution_count": 12,
   "metadata": {
    "scrolled": true
   },
   "outputs": [],
   "source": [
    "collection = data.collection"
   ]
  },
  {
   "cell_type": "code",
   "execution_count": 15,
   "metadata": {
    "scrolled": true
   },
   "outputs": [
    {
     "name": "stdout",
     "output_type": "stream",
     "text": [
      "Vocabsize :  143598 number of Docs :  114850\n",
      "Vocabsize :  143648 number of Docs :  114900\n",
      "Vocabsize :  143687 number of Docs :  114950\n",
      "Vocabsize :  143737 number of Docs :  115000\n",
      "Vocabsize :  143784 number of Docs :  115050\n",
      "Vocabsize :  143820 number of Docs :  115100\n",
      "Vocabsize :  143863 number of Docs :  115150\n",
      "Vocabsize :  143906 number of Docs :  115200\n",
      "Vocabsize :  143945 number of Docs :  115250\n",
      "Vocabsize :  143983 number of Docs :  115300\n",
      "Vocabsize :  144020 number of Docs :  115350\n",
      "Vocabsize :  144058 number of Docs :  115400\n",
      "Vocabsize :  144097 number of Docs :  115450\n",
      "Vocabsize :  144138 number of Docs :  115500\n",
      "Vocabsize :  144172 number of Docs :  115550\n",
      "Vocabsize :  144196 number of Docs :  115600\n",
      "Vocabsize :  144215 number of Docs :  115650\n",
      "Vocabsize :  144247 number of Docs :  115700\n",
      "Vocabsize :  144265 number of Docs :  115750\n",
      "Vocabsize :  144276 number of Docs :  115800\n",
      "Vocabsize :  144301 number of Docs :  115850\n",
      "Vocabsize :  144333 number of Docs :  115900\n",
      "Vocabsize :  144368 number of Docs :  115950\n",
      "Vocabsize :  144403 number of Docs :  116000\n",
      "Vocabsize :  144439 number of Docs :  116050\n",
      "Vocabsize :  144471 number of Docs :  116100\n",
      "Vocabsize :  144513 number of Docs :  116150\n",
      "Vocabsize :  144545 number of Docs :  116200\n",
      "Vocabsize :  144572 number of Docs :  116250\n",
      "Vocabsize :  144601 number of Docs :  116300\n",
      "Vocabsize :  144630 number of Docs :  116350\n",
      "Vocabsize :  144670 number of Docs :  116400\n",
      "Vocabsize :  144694 number of Docs :  116450\n",
      "Vocabsize :  144715 number of Docs :  116500\n",
      "termLex saved: length= 144718  saved_doc_length :  116508\n"
     ]
    }
   ],
   "source": [
    "termLex = pd.read_csv('new_dictionary.csv')\n",
    "\n",
    "Dictionary = defaultdict(lambda:-1)\n",
    "for idx,pos in enumerate(termLex.dictionary):\n",
    "    Dictionary[idx]=pos\n",
    "    \n",
    "V = termLex.vocabulary.to_list()\n",
    "D = np.load('new_saved_doc_length.npy').tolist()\n",
    "\n",
    "with open('./new_postings.txt', 'a') as Postings:\n",
    "    for d in collection[len(D):]:\n",
    "\n",
    "        i = len(D)\n",
    "        D.append(i)\n",
    "        localPostings = defaultdict(int)\n",
    "\n",
    "\n",
    "        for t in [_[0] for _ in okt.pos(d) if _[1].startswith(\"N\") and len(_[0])>1]:\n",
    "            if t not in V:\n",
    "                V.append(t)\n",
    "            j = V.index(t)\n",
    "            localPostings[j] += 1\n",
    "\n",
    "        for j, f in localPostings.items():\n",
    "            nextPosition = Dictionary[j]\n",
    "            _struct = (i, f, nextPosition)\n",
    "            Dictionary[j] = Postings.tell()\n",
    "            Postings.write(str(_struct[0])+','+str(_struct[1])+','+str(_struct[2])+'\\n')\n",
    "        if len(D)%50 ==0:\n",
    "            print(\"Vocabsize : \",len(V),\"number of Docs : \", len(D))\n",
    "            bot.sendMessage(chat_id = chat_id, text=\"Vocabsize : \"+str(len(V))+\"number of Docs : \"+ str(len(D)))\n",
    "        \n",
    "        \n",
    "\n",
    "termLex= pd.DataFrame()\n",
    "termLex[\"vocabulary\"] = V\n",
    "dict_ = [Dictionary[_] for _ in range(len(V))]\n",
    "termLex[\"dictionary\"] = dict_\n",
    "termLex.to_csv('new_dictionary.csv',header=True, index=False)\n",
    "np.save('new_saved_doc_length',np.array(D))\n",
    "print(\"termLex saved: length=\",len(termLex),' saved_doc_length : ',len(D))"
   ]
  },
  {
   "cell_type": "markdown",
   "metadata": {},
   "source": [
    "# controlled collection 만들기"
   ]
  },
  {
   "cell_type": "code",
   "execution_count": 24,
   "metadata": {
    "collapsed": true
   },
   "outputs": [
    {
     "name": "stdout",
     "output_type": "stream",
     "text": [
      "50\n",
      "100\n",
      "150\n",
      "200\n",
      "250\n",
      "300\n",
      "350\n",
      "400\n",
      "450\n",
      "500\n",
      "550\n",
      "600\n",
      "650\n",
      "700\n",
      "750\n",
      "800\n",
      "850\n",
      "900\n",
      "950\n",
      "1000\n",
      "1050\n",
      "1100\n",
      "1150\n",
      "1200\n",
      "1250\n",
      "1300\n",
      "1350\n",
      "1400\n",
      "1450\n",
      "1500\n",
      "1550\n",
      "1600\n",
      "1650\n"
     ]
    }
   ],
   "source": [
    "temp = []\n",
    "##바꾸셔야할부분\n",
    "for d in data.collection:\n",
    "    ctr_d = [_[0] for _ in okt.pos(d) if _[1].startswith(\"N\") and len(_[0])>1]\n",
    "    temp.append(' '.join(ctr_d))\n",
    "    if(len(temp)%50 == 0):\n",
    "        print(len(temp))"
   ]
  },
  {
   "cell_type": "code",
   "execution_count": null,
   "metadata": {},
   "outputs": [],
   "source": [
    "data.controlled_collection = temp"
   ]
  },
  {
   "cell_type": "code",
   "execution_count": 31,
   "metadata": {},
   "outputs": [],
   "source": [
    "data.to_csv('new_mashed_up.csv',header=True, index=False)"
   ]
  },
  {
   "cell_type": "code",
   "execution_count": null,
   "metadata": {},
   "outputs": [],
   "source": []
  }
 ],
 "metadata": {
  "kernelspec": {
   "display_name": "Python 3",
   "language": "python",
   "name": "python3"
  },
  "language_info": {
   "codemirror_mode": {
    "name": "ipython",
    "version": 3
   },
   "file_extension": ".py",
   "mimetype": "text/x-python",
   "name": "python",
   "nbconvert_exporter": "python",
   "pygments_lexer": "ipython3",
   "version": "3.7.3"
  }
 },
 "nbformat": 4,
 "nbformat_minor": 2
}
