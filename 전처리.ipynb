{
 "cells": [
  {
   "cell_type": "code",
   "execution_count": null,
   "metadata": {},
   "outputs": [],
   "source": [
    "import re\n",
    "import pandas as pd\n",
    "import numpy as np"
   ]
  },
  {
   "cell_type": "code",
   "execution_count": null,
   "metadata": {},
   "outputs": [],
   "source": [
    "data = pd.read_csv('mashed_up.csv')\n",
    "data.head(2)"
   ]
  },
  {
   "cell_type": "markdown",
   "metadata": {},
   "source": [
    "담당부서 nan인경우 : 없음으로"
   ]
  },
  {
   "cell_type": "code",
   "execution_count": null,
   "metadata": {},
   "outputs": [],
   "source": [
    "data[\"part\"] = data[\"part\"].apply(lambda x: '없음' if type(x)==float else x)"
   ]
  },
  {
   "cell_type": "markdown",
   "metadata": {},
   "source": [
    "작성일, 답변일자를  년-월-일 까지만"
   ]
  },
  {
   "cell_type": "code",
   "execution_count": null,
   "metadata": {},
   "outputs": [],
   "source": [
    "data[\"date\"] = data[\"date\"].apply(lambda x: x[:10])\n",
    "data[\"ans_date\"] = data[\"ans_date\"].apply(lambda x: x[:10])"
   ]
  },
  {
   "cell_type": "markdown",
   "metadata": {},
   "source": [
    "텍스트 전처리"
   ]
  },
  {
   "cell_type": "code",
   "execution_count": null,
   "metadata": {},
   "outputs": [],
   "source": [
    "corpus = data.question + '  ' + data.ans\n",
    "data['corpus'] = corpus\n",
    "\n",
    "pattern1 = re.compile(r'<br\\/>|[!\"\\#\\$\\&\\'\\(\\)\\*\\+,/;<=>@\\[\\\\\\]\\^_`\\{\\|\\}]',\n",
    "re.UNICODE)\n",
    "pattern2 = re.compile(r\"[A-Za-z]{5,}\")\n",
    "pattern3 = re.compile(r\"[^ \\~\\.:\\-\\n0-9A-Za-z가-힣]\")\n",
    "pattern4 = re.compile(r\"\\s{2,}\")\n",
    "pattern5 = re.compile(r\"\\s.\\s\")\n",
    "stop_words = re.compile(r\"안녕하세요|너무|자주|하겠습니다|있습니다|귀하|상담|담당|있는|있으시면|드립니다|\\\n",
    "말씀을|상당히|답변|지금|것|기원|건강|감사|합니다|바랍니다|등을|그냥|입니다|우리|이를|항상|말씀을\")\n",
    "\n",
    "data = data[[type(_)==str for _ in data.corpus]]\n",
    "corpus = data.corpus\n",
    "collection = list()\n",
    "for _ in corpus:\n",
    "    collection.append(\n",
    "        pattern5.sub(\"\",\n",
    "        pattern4.sub(\" \",\n",
    "        stop_words.sub(\" \",\n",
    "        pattern3.sub(\" \",\n",
    "        pattern2.sub(\" \",\n",
    "        pattern1.sub(\" \",\n",
    "        _))))).strip())\n",
    ")\n",
    "\n",
    "data['collection']=collection"
   ]
  },
  {
   "cell_type": "markdown",
   "metadata": {},
   "source": [
    "데이터 저장"
   ]
  },
  {
   "cell_type": "code",
   "execution_count": null,
   "metadata": {},
   "outputs": [],
   "source": [
    "data = data.drop(columns=['corpus'])\n",
    "data.to_csv('mashed_up.csv',header=True, index=False)"
   ]
  }
 ],
 "metadata": {
  "kernelspec": {
   "display_name": "Python 3",
   "language": "python",
   "name": "python3"
  },
  "language_info": {
   "codemirror_mode": {
    "name": "ipython",
    "version": 3
   },
   "file_extension": ".py",
   "mimetype": "text/x-python",
   "name": "python",
   "nbconvert_exporter": "python",
   "pygments_lexer": "ipython3",
   "version": "3.7.3"
  }
 },
 "nbformat": 4,
 "nbformat_minor": 2
}
