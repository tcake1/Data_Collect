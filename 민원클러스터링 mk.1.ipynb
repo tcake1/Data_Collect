{
 "cells": [
  {
   "cell_type": "code",
   "execution_count": 1,
   "metadata": {},
   "outputs": [
    {
     "name": "stderr",
     "output_type": "stream",
     "text": [
      "/Users/heeseok/anaconda3/lib/python3.7/site-packages/jpype/_core.py:210: UserWarning: \n",
      "-------------------------------------------------------------------------------\n",
      "Deprecated: convertStrings was not specified when starting the JVM. The default\n",
      "behavior in JPype will be False starting in JPype 0.8. The recommended setting\n",
      "for new code is convertStrings=False.  The legacy value of True was assumed for\n",
      "this session. If you are a user of an application that reported this warning,\n",
      "please file a ticket with the developer.\n",
      "-------------------------------------------------------------------------------\n",
      "\n",
      "  \"\"\")\n"
     ]
    }
   ],
   "source": [
    "import nltk\n",
    "from nltk.tokenize import word_tokenize\n",
    "from string import punctuation\n",
    "import re\n",
    "from konlpy.tag import Kkma\n",
    "import pandas as pd\n",
    "import numpy as np\n",
    "from collections import defaultdict\n",
    "from sklearn.feature_extraction.text import TfidfVectorizer\n",
    "from sklearn.metrics.pairwise import linear_kernel\n",
    "\n",
    "kkma = Kkma()"
   ]
  },
  {
   "cell_type": "markdown",
   "metadata": {},
   "source": [
    "얘는 date로 최근거만 불러와서 data frame으로"
   ]
  },
  {
   "cell_type": "code",
   "execution_count": 2,
   "metadata": {},
   "outputs": [
    {
     "data": {
      "text/plain": [
       "114880"
      ]
     },
     "execution_count": 2,
     "metadata": {},
     "output_type": "execute_result"
    }
   ],
   "source": [
    "import pandas as pd\n",
    "data = pd.read_csv('total_data.csv')\n",
    "len(data)"
   ]
  },
  {
   "cell_type": "code",
   "execution_count": 5,
   "metadata": {},
   "outputs": [],
   "source": [
    "data_ = data[[type(_)==str for _ in data.controlled_collection]]"
   ]
  },
  {
   "cell_type": "code",
   "execution_count": 3,
   "metadata": {},
   "outputs": [],
   "source": [
    "termLex = pd.read_csv('dictionary.csv')\n",
    "\n",
    "Dictionary = defaultdict(lambda:-1)\n",
    "for idx,pos in enumerate(termLex.dictionary):\n",
    "    Dictionary[idx]=pos\n",
    "    \n",
    "V = termLex.vocabulary.to_list()"
   ]
  },
  {
   "cell_type": "code",
   "execution_count": 11,
   "metadata": {},
   "outputs": [],
   "source": [
    "from sklearn.cluster import KMeans"
   ]
  },
  {
   "cell_type": "code",
   "execution_count": 181,
   "metadata": {},
   "outputs": [],
   "source": [
    "data2019 = data_[[_.startswith('2019-') for _ in data_.date]]\n",
    "tfidf = TfidfVectorizer(vocabulary=V,sublinear_tf=True)\n",
    "tf_idf_matrix = tfidf.fit_transform(data2019.controlled_collection)"
   ]
  },
  {
   "cell_type": "code",
   "execution_count": 228,
   "metadata": {},
   "outputs": [],
   "source": [
    "data201904 = data2019[[_.startswith('2019-04') for _ in data2019.date]]\n",
    "tfidf = TfidfVectorizer(vocabulary=V,sublinear_tf=True)\n",
    "tf_idf_matrix = tfidf.fit_transform(data201904.controlled_collection)"
   ]
  },
  {
   "cell_type": "code",
   "execution_count": 289,
   "metadata": {},
   "outputs": [],
   "source": [
    "kmeans = KMeans(n_clusters = 10).fit(tf_idf_matrix)"
   ]
  },
  {
   "cell_type": "code",
   "execution_count": 317,
   "metadata": {
    "scrolled": true
   },
   "outputs": [
    {
     "name": "stdout",
     "output_type": "stream",
     "text": [
      "사업 공무원 서울시 직원 건물 공사\n",
      "과태료 부과 주차 단속 도로 불법 주차 차량 단속\n",
      "도로 마을 버스 차량 사업 주차장 주차\n",
      "부탁 운영 공사 센터 도서관 도로\n",
      "조치 작업 발생 현장 소음 공사\n",
      "부탁 주시 안전 지역 의견 공원\n",
      "사진 조치 의견 현수막 관심 신고\n",
      "사업 시행 조합 임원 고덕 단지 주택 건축 정비 사업비 총회\n",
      "쓰레기 무단 청소 배출 무단 투기 수거 쓰레기\n",
      "금연 흡연자 간접 흡연 흡연 단속 금연 구역\n"
     ]
    }
   ],
   "source": [
    "clusters=defaultdict(list)\n",
    "p = re.compile(r'민원|관련|경우|해당|사항|내용|문의|불편|진행|피해|요청|확인|이용|설치|개최|주민|처리|나라|생각|여부|연락|주신|구정|구청|시간')\n",
    "    \n",
    "\n",
    "for i in range(len(data201904)):\n",
    "    clusters[kmeans.labels_[i]].append(''.join(p.sub('',data201904.iloc[i].controlled_collection)))\n",
    "\n",
    "temp = [(_[0],len(_[1])) for _ in clusters.items()]\n",
    "\n",
    "for i in sorted(temp,key=lambda x:x[1], reverse=True):\n",
    "    fuck = ' '.join(clusters[i[0]])\n",
    "    wordcloud = WordCloud(font_path='/Library/Fonts/AppleGothic.ttf',background_color='white').generate(fuck)\n",
    "    print(' '.join([_[0] for _ in [(_[0],_[1]) for _ in wordcloud.words_.items()][5::-1]]))"
   ]
  },
  {
   "cell_type": "code",
   "execution_count": null,
   "metadata": {},
   "outputs": [],
   "source": [
    "#LDA  alpah 1이상  베타는 0.1미만"
   ]
  }
 ],
 "metadata": {
  "kernelspec": {
   "display_name": "Python 3",
   "language": "python",
   "name": "python3"
  },
  "language_info": {
   "codemirror_mode": {
    "name": "ipython",
    "version": 3
   },
   "file_extension": ".py",
   "mimetype": "text/x-python",
   "name": "python",
   "nbconvert_exporter": "python",
   "pygments_lexer": "ipython3",
   "version": "3.7.3"
  }
 },
 "nbformat": 4,
 "nbformat_minor": 2
}
