{
 "cells": [
  {
   "cell_type": "code",
   "execution_count": 1,
   "metadata": {},
   "outputs": [],
   "source": [
    "import requests\n",
    "import time\n",
    "import re\n",
    "from html import unescape\n",
    "\n",
    "def download(method, url, \n",
    "             param=None, data=None,\n",
    "             timeout=3, maxretries=3):\n",
    "    try:\n",
    "        resp = requests.request(method, url, \n",
    "                         params=param, data=data, \n",
    "                         headers={\"user-agent\":\"Mozilla/5.0 (Windows NT 10.0; Win64; x64) AppleWebKit/537.36 (KHTML, like Gecko) Chrome/75.0.3770.100 Safari/537.36\"})\n",
    "\n",
    "        resp.raise_for_status()\n",
    "    except requests.exceptions.HTTPError as e:\n",
    "        if  500 <= e.response.status_code <600 and maxretries>0:\n",
    "            print(maxretries)\n",
    "            time.sleep(timeout)\n",
    "            resp = download(method, url, param, data, timeout, maxretries-1)\n",
    "        else:\n",
    "            print(e.response.status_code)\n",
    "            print(e.response.reason)\n",
    "    return resp"
   ]
  },
  {
   "cell_type": "code",
   "execution_count": 2,
   "metadata": {},
   "outputs": [],
   "source": [
    "url = \"https://eungdapso.seoul.go.kr/Shr/Shr01/Shr01_lis.jsp\""
   ]
  },
  {
   "cell_type": "markdown",
   "metadata": {},
   "source": [
    "게시물에서 id받아와서 text파일에 저장"
   ]
  },
  {
   "cell_type": "code",
   "execution_count": null,
   "metadata": {},
   "outputs": [],
   "source": [
    "%%writefile eungdapso.txt\n",
    "\n"
   ]
  },
  {
   "cell_type": "code",
   "execution_count": 251,
   "metadata": {},
   "outputs": [],
   "source": [
    "p=re.compile('''\\('(\\d{14})'\\)\" title=''')\n",
    "result = []\n",
    "with open('C:\\\\Users\\\\poco2\\\\eungdapso.txt' ,'w') as file :\n",
    "    for i in range(1187):\n",
    "        html = download('post',url, data = {'page' : i})\n",
    "        result.extend(p.findall(html.text))\n",
    "    \n",
    "    for _ in result:\n",
    "        file.write(_+'\\n')    "
   ]
  },
  {
   "cell_type": "markdown",
   "metadata": {},
   "source": [
    "text 파일에서 id불러와서 list에넣기"
   ]
  },
  {
   "cell_type": "code",
   "execution_count": 5,
   "metadata": {},
   "outputs": [],
   "source": [
    "id_list = []\n",
    "\n",
    "with open('C:\\\\Users\\\\poco2\\\\eungdapso.txt' ,'r') as file :\n",
    "    id_list.extend(file.read().split('\\n'))"
   ]
  },
  {
   "cell_type": "code",
   "execution_count": 6,
   "metadata": {},
   "outputs": [],
   "source": [
    "id_list = id_list[:-1]"
   ]
  },
  {
   "cell_type": "code",
   "execution_count": 7,
   "metadata": {},
   "outputs": [
    {
     "data": {
      "text/plain": [
       "8792"
      ]
     },
     "execution_count": 7,
     "metadata": {},
     "output_type": "execute_result"
    }
   ],
   "source": [
    "len(id_list)"
   ]
  },
  {
   "cell_type": "code",
   "execution_count": 76,
   "metadata": {},
   "outputs": [],
   "source": [
    "cont_url = \"https://eungdapso.seoul.go.kr/Shr/Shr01/Shr01_vie.jsp\""
   ]
  },
  {
   "cell_type": "code",
   "execution_count": 97,
   "metadata": {},
   "outputs": [],
   "source": [
    "with open('C:\\\\Users\\\\poco2\\\\eungdapso_content.txt' ,'w') as file :\n",
    "    for id in id_list[7992:]:\n",
    "        html = download('post',cont_url, data = {'RCEPT_NO' : id})\n",
    "        title = re.findall('제목<\\/th>\\s+<td>(.+)?<\\/td>', html.text)[0]\n",
    "        question = re.findall('상담내용<\\/p>\\s*(.+?)\\s*<\\/div>', html.text)[0]\n",
    "        answer = re.sub('(\\\\n)|(\\\\r)|(\\\\t)','',re.findall('답변내용<\\/p>\\s*<p>((.?)+\\s*(.?)+\\s+)<\\/p>',html.text)[0][0])\n",
    "\n",
    "        file.write(title+'*'+question+'*'+answer+'\\n')"
   ]
  },
  {
   "cell_type": "code",
   "execution_count": 31,
   "metadata": {},
   "outputs": [
    {
     "name": "stdout",
     "output_type": "stream",
     "text": [
      "Writing eungdapso_content.txt\n"
     ]
    }
   ],
   "source": [
    "%%writefile eungdapso_content.txt\n",
    "\n"
   ]
  },
  {
   "cell_type": "code",
   "execution_count": 100,
   "metadata": {},
   "outputs": [],
   "source": [
    "temp = []\n",
    "with open('C:\\\\Users\\\\poco2\\\\eungdapso_content.txt' ,'r') as file :\n",
    "    temp.extend(file.readlines())"
   ]
  },
  {
   "cell_type": "code",
   "execution_count": 106,
   "metadata": {},
   "outputs": [
    {
     "data": {
      "text/plain": [
       "['아현고가도로 철거 관련 문의 ',\n",
       " '아현고가도로 철거 관련하여 고가도로에 사용되었던 표지판 등의 기물을 서울시 역사 박물관에 전시할 예정이라고 들었어요. <br/>전시회에 가보려고 하는데 전시 예정일 좀 알려주세요.',\n",
       " ' OOO 님 안녕하세요? <br/>서울시에서 추진하고 있는 아현고가도로 철거 사업에 관심을 가져주셔서 감사드리며, 문의하신 아현고가 관련 전시일정에 대하여 말씀드리겠습니다. <br/><br/>2월 중 철거와 함께 현장 유물채취와 자료수집 및 조사 절차 등을 거쳐 5월중에는 전시실을 운영할 계획이나, 정확한 일정은 서울역사박물관 전시일정등 제반사항을 고려하여 결정해야할 사항으로, 일정이 확정되면 서울시역사박물관에서 시민여러분에게 홈페이지 등을 통해 알려드릴 예정입니다.<br/><br/> 또 다른 문의사항 있으시면 언제든지 말씀해 주시기를 부탁드리며, 앞으로도 시에서 추진하고 있는 사업에 많은 관심 가져주시고 좋은 의견 부탁드립니다. <br/><br/>OOO 님 가정에 항상 건강과 큰 기쁨이 가득하시길 기원드립니다. 감사합니다.<br/><br/>[검토부서]  [담당자]  (☎ )  \\n']"
      ]
     },
     "execution_count": 106,
     "metadata": {},
     "output_type": "execute_result"
    }
   ],
   "source": [
    "(temp[-2].split('*'))"
   ]
  },
  {
   "cell_type": "code",
   "execution_count": null,
   "metadata": {},
   "outputs": [],
   "source": []
  }
 ],
 "metadata": {
  "kernelspec": {
   "display_name": "Python 3",
   "language": "python",
   "name": "python3"
  },
  "language_info": {
   "codemirror_mode": {
    "name": "ipython",
    "version": 3
   },
   "file_extension": ".py",
   "mimetype": "text/x-python",
   "name": "python",
   "nbconvert_exporter": "python",
   "pygments_lexer": "ipython3",
   "version": "3.7.3"
  }
 },
 "nbformat": 4,
 "nbformat_minor": 2
}
