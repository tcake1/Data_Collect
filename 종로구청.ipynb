{
 "cells": [
  {
   "cell_type": "code",
   "execution_count": 1,
   "metadata": {},
   "outputs": [],
   "source": [
    "import urllib\n",
    "from selenium.webdriver.common.keys import Keys\n",
    "# 이게 그 기능을 갖고 있음\n",
    "from selenium.webdriver.support.ui import WebDriverWait\n",
    "# 각종 error을 정의 해놈\n",
    "from selenium.common.exceptions import ElementNotVisibleException\n",
    "# driver timeout은 최대 시간 frequenct 얼마마다 확인 그동안 에러무시\n",
    "from selenium.webdriver.common.by import By\n",
    "from selenium.webdriver.support import expected_conditions as EC\n",
    "from bs4 import BeautifulSoup\n",
    "import re\n",
    "import time\n",
    "import requests\n",
    "from selenium import webdriver\n",
    "\n",
    "def download(method,url,param=None, data=None, timeout=1, maxretries =3 ): \n",
    "    '''\n",
    "    400이 나면 none\n",
    "    500이 나면 다시시도\n",
    "    '''\n",
    "    try:\n",
    "        # 이건 여기서 error 가 남\n",
    "        # urlib에서는 객체를 만들고 urlopen으로 전달하는데 여기서는 한번에 실행\n",
    "        resp=requests.request(method, url, params= param, data=data, headers = {\"user-agent\":\"Mozilla/5.0 (Windows NT 10.0; Win64; x64) AppleWebKit/537.36 (KHTML, like Gecko) Chrome/75.0.3770.100 Safari/537.36\"})\n",
    "        \n",
    "        # 테스트해보기 위해서 error를 발생시킴\n",
    "        # error 발생안하면 넘어가는 명령어임\n",
    "        resp.raise_for_status()\n",
    "        \n",
    "    except requests.exceptions.HTTPError as e:\n",
    "        # 이경우는 서버상 error 즉 재시도를 요청해야함 500~600\n",
    "        if 500<= e.response.status_code < 600 and maxretries > 0 and maxretries > 0:\n",
    "            # 두가지 정의 필요 얼만큼 얼마 간격으로 재시도 할것인지\n",
    "            # 몇초 기달릴지\n",
    "            time.sleep(timeout)\n",
    "            #얼만큼 재시도할지\n",
    "            resp=download(method,url,param, data, timeout, maxretries-1)\n",
    "            print(\"재시도\")\n",
    "        \n",
    "        else:    \n",
    "            print(e.response.status_code)\n",
    "            print(e.response.reason)\n",
    "    \n",
    "    return resp"
   ]
  },
  {
   "cell_type": "code",
   "execution_count": 46,
   "metadata": {
    "scrolled": true
   },
   "outputs": [
    {
     "data": {
      "text/plain": [
       "['245106',\n",
       " '244972',\n",
       " '244749',\n",
       " '243745',\n",
       " '243017',\n",
       " '242658',\n",
       " '240788',\n",
       " '240178',\n",
       " '239868',\n",
       " '233059',\n",
       " '214871',\n",
       " '214870',\n",
       " '213641',\n",
       " '213531',\n",
       " '212801',\n",
       " '210993',\n",
       " '210827',\n",
       " '209943',\n",
       " '209764',\n",
       " '209762']"
      ]
     },
     "execution_count": 46,
     "metadata": {},
     "output_type": "execute_result"
    }
   ],
   "source": [
    "url = \"https://www.jongno.go.kr/portal/bbs/selectBoardList.do\"\n",
    "data = {\n",
    "    'bbsId':'BBSMSTR_000000000491',\n",
    "    'menuNo':1123,\n",
    "    'menuId':1123,\n",
    "    'pageIndex':2\n",
    "}\n",
    "\n",
    "html = download('post',url, data=data)\n",
    "dom = BeautifulSoup(html.text,\"html.parser\")\n",
    "ID=[re.findall(\"[0-9]+\",_[\"href\"])[0] for _ in dom.select(\"table.list_type01 tbody tr td.output.tal.sj a\")]\n",
    "ID"
   ]
  },
  {
   "cell_type": "code",
   "execution_count": 37,
   "metadata": {},
   "outputs": [
    {
     "data": {
      "text/plain": [
       "'245106'"
      ]
     },
     "execution_count": 37,
     "metadata": {},
     "output_type": "execute_result"
    }
   ],
   "source": [
    "re.findall(\"[0-9]+\",\"javascript:viewMove('245106')\")[0]"
   ]
  },
  {
   "cell_type": "code",
   "execution_count": 81,
   "metadata": {},
   "outputs": [
    {
     "data": {
      "text/plain": [
       "[<td class=\"output\" colspan=\"3\">창신역에서 숭인교회올라가는 긴계단 청소</td>, <td class=\"output\">\n",
       " \t\t\t\t\n",
       " \t\t\t\t2015년 05월 20일\t\t\t\n",
       " \t\t\t</td>, <td class=\"output\">2908</td>, <td class=\"output\" colspan=\"3\">\n",
       " </td>, <td class=\"output\" colspan=\"3\"> $스마트폰으로 신고한 내용 다시 씁니다. 창신역에서 숭인교회 올라가는 138개 계단청소를 전부터 여러번 민원을 올렸으나 그때 잠깐 청소했을 뿐 항상 너무 더럽습니다. 어제는 보다못해 제가 종량제 쓰레기봉투 20L 짜리를 가지고 한번 수거했는데 (사진 참조) 금방 다 차서 다 못했습니다. 그리고 밤에는 가로등이 자꾸 꺼져 컴컴해서 무섭고 계단이 잘 안보여 위험하기조차 합니다 <br/>.1) 무단투기 경고 안내판을 붙이고<br/> 2) CCTV를 설치하고<br/> 3)가로등을 고쳐주시고<br/> 4)최소한 일주일에 한번이라도 정기적으로 청소해주셨으면 합니다 (강력요청)\n",
       " \t\t\t</td>, <td class=\"output\">도로과</td>, <td class=\"output\">박영태</td>, <td class=\"output\">3106</td>, <td class=\"output\">pyt1021@mail.jongno.go.kr</td>, <td class=\"output\" colspan=\"3\">1. 구정 발전을 위하여 협조하여 주시는 선생님께 감사드립니다.<br/>         2. 먼저, 선생님께서 보안등 고장에 따라 불편을 겪으시게 된 것에 대해 죄송한 마음과 함께 사<br/>과의말씀을 드립니다. <br/>         3. 선생님께서 말씀하신 보안등은 2015. 5. 19. 현장 확인 후 보수하였음을 알려드립니다.<br/>         4. 기타 궁금하신 사항은 도로과(담당 박영태, 02-2148-3194)로 연락주시면 성심껏 답변드리<br/>겠습니다. 다시한번 선생님께 불편을 드린 것에 대해 죄송하다는 말씀을 드리며, 가정에 건강과 행복<br/>이 늘 함께 하시길 기원합니다.  끝.</td>]"
      ]
     },
     "execution_count": 81,
     "metadata": {},
     "output_type": "execute_result"
    }
   ],
   "source": [
    "url = \"https://www.jongno.go.kr/portal/bbs/selectBoardArticle.do\"\n",
    "data = {\n",
    "    \n",
    "    'bbsId':'BBSMSTR_000000000491',\n",
    "    'menuNo':1123,\n",
    "    'menuId':1123,\n",
    "    'nttId':245106\n",
    "}\n",
    "\n",
    "html = download('post',url, data=data)\n",
    "dom = BeautifulSoup(html.text,\"html.parser\")\n",
    "dom.select(\"td.output\")"
   ]
  },
  {
   "cell_type": "code",
   "execution_count": 85,
   "metadata": {},
   "outputs": [
    {
     "data": {
      "text/plain": [
       "'\\n\\t\\t\\t\\t\\n\\t\\t\\t\\t2015년 05월 20일\\t\\t\\t\\n\\t\\t\\t'"
      ]
     },
     "execution_count": 85,
     "metadata": {},
     "output_type": "execute_result"
    }
   ],
   "source": [
    "#title = dom.select(\"td.output\")[0].text\n",
    "dom.select(\"td.output\")[1].text\n",
    "#content = dom.select(\"td.output\")[4].text\n",
    "#ans = dom.select(\"td.output\")[-1].text"
   ]
  },
  {
   "cell_type": "code",
   "execution_count": 66,
   "metadata": {},
   "outputs": [],
   "source": [
    "def get_id():\n",
    "    result = []\n",
    "    for i in range(1,4):\n",
    "        url = \"https://www.jongno.go.kr/portal/bbs/selectBoardList.do\"\n",
    "        data = {\n",
    "            'bbsId':'BBSMSTR_000000000491',\n",
    "            'menuNo':1123,\n",
    "            'menuId':1123,\n",
    "            'pageIndex':i\n",
    "        }\n",
    "\n",
    "        html = download('post',url, data=data)\n",
    "        dom = BeautifulSoup(html.text,\"html.parser\")\n",
    "        ID=[re.findall(\"[0-9]+\",_[\"href\"])[0] for _ in dom.select(\"table.list_type01 tbody tr td.output.tal.sj a\")]\n",
    "        result.extend(ID)\n",
    "    return result"
   ]
  },
  {
   "cell_type": "code",
   "execution_count": 86,
   "metadata": {},
   "outputs": [],
   "source": [
    "def get_data(ID):\n",
    "    url = \"https://www.jongno.go.kr/portal/bbs/selectBoardArticle.do\"\n",
    "    result = []\n",
    "    for i in ID:\n",
    "        data = {\n",
    "\n",
    "            'bbsId':'BBSMSTR_000000000491',\n",
    "            'menuNo':1123,\n",
    "            'menuId':1123,\n",
    "            'nttId':i\n",
    "        }\n",
    "\n",
    "        html = download('post',url, data=data)\n",
    "        dom = BeautifulSoup(html.text,\"html.parser\")\n",
    "        title = dom.select(\"td.output\")[0].text\n",
    "        date = dom.select(\"td.output\")[1].text\n",
    "        content = dom.select(\"td.output\")[4].text\n",
    "        ans = dom.select(\"td.output\")[-1].text\n",
    "        temp = [title,date,content,ans]\n",
    "        result.append(temp)\n",
    "    return result\n"
   ]
  },
  {
   "cell_type": "code",
   "execution_count": 87,
   "metadata": {},
   "outputs": [],
   "source": [
    "ID = get_id()\n",
    "a = get_data(ID)\n"
   ]
  },
  {
   "cell_type": "code",
   "execution_count": 88,
   "metadata": {},
   "outputs": [
    {
     "data": {
      "text/plain": [
       "'\\n\\t\\t\\t\\t\\n\\t\\t\\t\\t2016년 07월 29일\\t\\t\\t\\n\\t\\t\\t'"
      ]
     },
     "execution_count": 88,
     "metadata": {},
     "output_type": "execute_result"
    }
   ],
   "source": [
    "a[11][1]"
   ]
  },
  {
   "cell_type": "code",
   "execution_count": null,
   "metadata": {},
   "outputs": [],
   "source": []
  }
 ],
 "metadata": {
  "kernelspec": {
   "display_name": "Python 3",
   "language": "python",
   "name": "python3"
  },
  "language_info": {
   "codemirror_mode": {
    "name": "ipython",
    "version": 3
   },
   "file_extension": ".py",
   "mimetype": "text/x-python",
   "name": "python",
   "nbconvert_exporter": "python",
   "pygments_lexer": "ipython3",
   "version": "3.7.3"
  }
 },
 "nbformat": 4,
 "nbformat_minor": 2
}
